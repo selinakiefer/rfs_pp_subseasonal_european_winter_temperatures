{
 "cells": [
  {
   "cell_type": "markdown",
   "id": "2ac6cbf9",
   "metadata": {},
   "source": [
    " # Create Binary Cold Wave Day S2S Reforecast Ensemble\n",
    " Version 19 January 2024, Selina Kiefer"
   ]
  },
  {
   "cell_type": "markdown",
   "id": "f05c4fa3",
   "metadata": {},
   "source": [
    "### Input: csv-file\n",
    "S2S reforecasts ensemble with absolute temperatures in csv-format\n",
    "### Output: csv-file, png-files\n",
    "S2S reforecast ensemble consisting of binary cold wave days in csv-format and plotted in png-format"
   ]
  },
  {
   "cell_type": "markdown",
   "id": "7027b513",
   "metadata": {},
   "source": [
    "#### Set the paths' to the defined functions, the style sheet for plotting and the configuration file and set its name"
   ]
  },
  {
   "cell_type": "code",
   "execution_count": null,
   "id": "860c1a1f",
   "metadata": {},
   "outputs": [],
   "source": [
    "# Set the path to the defined functions.\n",
    "PATH_defined_functions = './Defined_Functions/'"
   ]
  },
  {
   "cell_type": "code",
   "execution_count": null,
   "id": "f913dc1d",
   "metadata": {},
   "outputs": [],
   "source": [
    "# Set the path and name of the style file which should be used for plotting.\n",
    "style_file_for_plotting = './Style_File_Matplotlib.mplstyle'"
   ]
  },
  {
   "cell_type": "code",
   "execution_count": null,
   "id": "152bcda5",
   "metadata": {},
   "outputs": [],
   "source": [
    "# Set the path and name of the configuration file.\n",
    "PATH_configurations = './Configurations/'\n",
    "ifile_configurations = 'Configurations_S2S_Reforecasts_Cold_Wave_Day_Ensemble.yaml'"
   ]
  },
  {
   "cell_type": "markdown",
   "id": "7b3272b1",
   "metadata": {},
   "source": [
    "#### Import the necessary python packages and functions"
   ]
  },
  {
   "cell_type": "code",
   "execution_count": null,
   "id": "d421b877",
   "metadata": {},
   "outputs": [],
   "source": [
    "# Import the necessary python packages.\n",
    "import yaml\n",
    "import xarray as xr\n",
    "import numpy as np\n",
    "import matplotlib.pyplot as plt"
   ]
  },
  {
   "cell_type": "code",
   "execution_count": null,
   "id": "d2d12ae7",
   "metadata": {},
   "outputs": [],
   "source": [
    "# Read in the necessary defined functions.\n",
    "import sys\n",
    "sys.path.insert(1, PATH_defined_functions)\n",
    "from read_in_csv_data import *"
   ]
  },
  {
   "cell_type": "markdown",
   "id": "acb47254",
   "metadata": {},
   "source": [
    "#### Read in the style sheet for plotting"
   ]
  },
  {
   "cell_type": "code",
   "execution_count": null,
   "id": "1796ee7e",
   "metadata": {},
   "outputs": [],
   "source": [
    "# Load the style sheet to be used by matplotlib for plotting. This will update the plotting\n",
    "# parameters to e.g. have the right font, font size and figure size. The latter is adjusted to\n",
    "# the textwidth of the LaTeX-document in order to avoid re-scaling the plot and changing \n",
    "# thereby the font size again.\n",
    "plt.style.use(style_file_for_plotting)\n",
    "import warnings\n",
    "warnings.simplefilter(action='ignore')"
   ]
  },
  {
   "cell_type": "markdown",
   "id": "40c45d65",
   "metadata": {},
   "source": [
    "#### Read in the configuration file and the data specified in it"
   ]
  },
  {
   "cell_type": "code",
   "execution_count": null,
   "id": "d03f45ef",
   "metadata": {},
   "outputs": [],
   "source": [
    "# Read in the configuration file (nothing needs to be changed here).\n",
    "with open(PATH_configurations+ifile_configurations) as f:\n",
    "    config = yaml.safe_load(f)"
   ]
  },
  {
   "cell_type": "code",
   "execution_count": null,
   "id": "d41bd55a",
   "metadata": {},
   "outputs": [],
   "source": [
    "# Read in the S2S reforecasts ensemble with absolute temperature values.\n",
    "df_input_data = read_in_csv_data(config['PATH_s2s_reforecast_ensemble'], config['ifile_s2s_reforecast_ensemble'])\n",
    "df_input_data = df_input_data.drop(['index', 'Unnamed: 0'], axis=1)\n",
    "df_input_data"
   ]
  },
  {
   "cell_type": "code",
   "execution_count": null,
   "id": "f0654d59",
   "metadata": {},
   "outputs": [],
   "source": [
    "# Name the columns containing the ensemble members.\n",
    "columns_reforecasts = ['0.0', '1.0', '2.0', '3.0', '4.0', '5.0', '6.0', '7.0', '8.0', '9.0', '10.0']"
   ]
  },
  {
   "cell_type": "code",
   "execution_count": null,
   "id": "568b47cc",
   "metadata": {},
   "outputs": [],
   "source": [
    "# Read in the cold wave day thresholds.\n",
    "df_cold_wave_thresholds = read_in_csv_data(config['PATH_cold_wave_thresholds'], config['ifile_cold_wave_thresholds'])\n",
    "df_cold_wave_thresholds = df_cold_wave_thresholds.drop(['index', 'Unnamed: 0'], axis=1)\n",
    "df_cold_wave_thresholds"
   ]
  },
  {
   "cell_type": "markdown",
   "id": "a1036d64",
   "metadata": {},
   "source": [
    "#### Select the cold wave thresholds for the dates (month and day) present in the S2S reforecasts ensemble"
   ]
  },
  {
   "cell_type": "code",
   "execution_count": null,
   "id": "da0a88b5",
   "metadata": {},
   "outputs": [],
   "source": [
    "# Select from the S2S reforecast ensemble the same winter as used as the auxiliary date of the cold wave day\n",
    "# thresholds.\n",
    "df_for_thresholds = df_input_data.where(df_input_data['valid_time']>'2003-04-30')\n",
    "df_for_thresholds = df_for_thresholds.where(df_for_thresholds['valid_time']<'2004-11-01')\n",
    "df_for_thresholds = df_for_thresholds.dropna()"
   ]
  },
  {
   "cell_type": "code",
   "execution_count": null,
   "id": "1f412a38",
   "metadata": {},
   "outputs": [],
   "source": [
    "# Find the dates which are present in both, the S2S reforecasts ensemble and the cold wave threshold data. If the \n",
    "# date is not present in both, add NaN to the list containing the dates so that the list has the same lenghts as\n",
    "# the dataframe containing the cold wave thresholds.\n",
    "joint_dates = []\n",
    "l = 0\n",
    "\n",
    "for i in range(len(df_cold_wave_thresholds['auxiliary_date'])):\n",
    "    if df_cold_wave_thresholds['auxiliary_date'].iloc[i] == df_for_thresholds['valid_time'].iloc[l]:\n",
    "        joint_dates.append(df_cold_wave_thresholds['auxiliary_date'].iloc[i])\n",
    "        l = l+1\n",
    "        if l>len(df_for_thresholds['valid_time'])-1:\n",
    "            l = 0\n",
    "    else:\n",
    "        joint_dates.append(np.nan)"
   ]
  },
  {
   "cell_type": "code",
   "execution_count": null,
   "id": "4eda0a70",
   "metadata": {},
   "outputs": [],
   "source": [
    "# Append the list with the joint dates to the dataframe containing the cold wave thresholds. Drop all rows with\n",
    "# NaN, leaving only the data for the joint dates in the dataframe.\n",
    "df_cold_wave_thresholds['joint_dates'] = joint_dates\n",
    "df_cold_wave_thresholds = df_cold_wave_thresholds.dropna()\n",
    "df_cold_wave_thresholds = df_cold_wave_thresholds.drop(['joint_dates'], axis=1)"
   ]
  },
  {
   "cell_type": "markdown",
   "id": "cd6cb8c5",
   "metadata": {},
   "source": [
    "#### Calculate the cold wave days on the S2S reforecasts ensemble"
   ]
  },
  {
   "cell_type": "code",
   "execution_count": null,
   "id": "4d034c7b",
   "metadata": {},
   "outputs": [],
   "source": [
    "# Repeat the list with the cold wave threshold for every winter so that it has the same lengths as the dataframe\n",
    "# containing the S2S reforecast ensemble with the absolute temperature values.\n",
    "number_of_winters = len(df_input_data['valid_time'])/len(df_cold_wave_thresholds['threshold_cold_wave'])\n",
    "cold_wave_thresholds = np.tile(df_cold_wave_thresholds['threshold_cold_wave'], int(number_of_winters))"
   ]
  },
  {
   "cell_type": "code",
   "execution_count": null,
   "id": "85c9f313",
   "metadata": {},
   "outputs": [],
   "source": [
    "# Add the cold wave thresholds to the dataframe containing the S2S reforecast ensemble.\n",
    "df_input_data['threshold_cold_wave'] = cold_wave_thresholds"
   ]
  },
  {
   "cell_type": "code",
   "execution_count": null,
   "id": "6bcb2f0c",
   "metadata": {},
   "outputs": [],
   "source": [
    "# Subtract the value of the cold wave threshold from the S2S reforecasts.\n",
    "for k in columns_reforecasts:\n",
    "    df_input_data[k] = df_input_data[k]-df_input_data['threshold_cold_wave']"
   ]
  },
  {
   "cell_type": "code",
   "execution_count": null,
   "id": "a9a2da2f",
   "metadata": {},
   "outputs": [],
   "source": [
    "# Set all values fulfilling the cold wave day criterion to 1, the rest to 0.\n",
    "for k in columns_reforecasts:\n",
    "    df_input_data[k][df_input_data[k] >= 0] = 0\n",
    "    df_input_data[k][df_input_data[k] < 0] = 1"
   ]
  },
  {
   "cell_type": "markdown",
   "id": "b4fbf176",
   "metadata": {},
   "source": [
    "#### Save the cold wave day S2S reforecast ensemble and visualize it"
   ]
  },
  {
   "cell_type": "code",
   "execution_count": null,
   "id": "d830b349",
   "metadata": {},
   "outputs": [],
   "source": [
    "# Save the ensemble as csv-file.\n",
    "df_input_data.to_csv(config['PATH_output_files']+'S2S_Reforecast_Binary_Cold_Wave_Day_Ensemble_Lead_Time_'+config['lead_time']+'_2000_2020.csv')"
   ]
  },
  {
   "cell_type": "code",
   "execution_count": null,
   "id": "9786f456",
   "metadata": {},
   "outputs": [],
   "source": [
    "# For plotting, the fraction of ensemble member showing a cold wave day is calculated.\n",
    "df_input_data['Fraction_Cold_Wave_Day'] = df_input_data[columns_reforecasts].values.mean(axis=1) "
   ]
  },
  {
   "cell_type": "code",
   "execution_count": null,
   "id": "59e1ab7c",
   "metadata": {},
   "outputs": [],
   "source": [
    "# Plot the cold wave day S2S reforecast ensemble for all winters for a plausibility check.\n",
    "fig, ax = plt.subplots()\n",
    "plt.plot(df_input_data['valid_time'], df_input_data['Fraction_Cold_Wave_Day'], marker='o', linestyle='', markersize=1)\n",
    "ax.xaxis.set_major_locator(plt.MaxNLocator(15))\n",
    "plt.xticks(rotation=45)\n",
    "plt.xlabel('time')\n",
    "plt.ylabel('Fraction of Ensemble Members')\n",
    "plt.title('Cold Wave Days in ECMWF S2S Reforecasts, Lead Time '+config['lead_time'])\n",
    "plt.savefig(config['PATH_plots']+'S2S_Reforecast_Binary_Cold_Wave_Day_Ensemble_Lead_Time_'+config['lead_time']+'_Winter_2000_2020.png', bbox_inches='tight')"
   ]
  },
  {
   "cell_type": "code",
   "execution_count": null,
   "id": "804f0244",
   "metadata": {},
   "outputs": [],
   "source": [
    "# Plot the cold wave day S2S reforecast ensemble for a single winter for a plausibility check.\n",
    "df_s2s_reforecast_ensemble_winter_2011_2012 = df_input_data.iloc[572:623]\n",
    "fig, ax = plt.subplots()\n",
    "plt.plot(df_s2s_reforecast_ensemble_winter_2011_2012['valid_time'], df_s2s_reforecast_ensemble_winter_2011_2012['Fraction_Cold_Wave_Day'], marker='o', linestyle='', linewidth=1, markersize=3)\n",
    "ax.xaxis.set_major_locator(plt.MaxNLocator(15))\n",
    "plt.xticks(rotation=45)\n",
    "plt.xlabel('time')\n",
    "plt.ylabel('Fraction of Ensemble Members')\n",
    "plt.title('Cold Wave Days in ECMWF S2S Reforecasts, Lead Time '+config['lead_time'])\n",
    "plt.savefig(config['PATH_plots']+'S2S_Reforecast_Binary_Cold_Wave_Day_Ensemble_Lead_Time_'+config['lead_time']+'_Winter_2011_2012.png', bbox_inches='tight')"
   ]
  },
  {
   "cell_type": "code",
   "execution_count": null,
   "id": "592df68a",
   "metadata": {},
   "outputs": [],
   "source": [
    "# End of Program."
   ]
  }
 ],
 "metadata": {
  "kernelspec": {
   "display_name": "Python 3",
   "language": "python",
   "name": "python3"
  },
  "language_info": {
   "codemirror_mode": {
    "name": "ipython",
    "version": 3
   },
   "file_extension": ".py",
   "mimetype": "text/x-python",
   "name": "python",
   "nbconvert_exporter": "python",
   "pygments_lexer": "ipython3",
   "version": "3.9.13"
  }
 },
 "nbformat": 4,
 "nbformat_minor": 5
}
