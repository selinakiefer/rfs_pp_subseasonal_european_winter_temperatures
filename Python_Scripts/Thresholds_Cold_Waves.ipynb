{
 "cells": [
  {
   "cell_type": "markdown",
   "metadata": {},
   "source": [
    "# Calculating Threshold for Cold Waves\n",
    "Version 17 January 2024, Selina Kiefer"
   ]
  },
  {
   "cell_type": "markdown",
   "metadata": {},
   "source": [
    "### Input: csv-file\n",
    "continuous timeseries of ground truth temperature in csv-format\n",
    "### Output: csv-file and png-file\n",
    "threshold temperatures for cold waves in csv-format and plotted in png-format"
   ]
  },
  {
   "cell_type": "markdown",
   "metadata": {},
   "source": [
    "### Cold wave definition: Smid et al. (2019)\n",
    "\n",
    "2 criteria have to be fulfilled for the classification of cold waves:\n",
    "1. the temperature of a day has to be below the 10th percentile of a 30-year average of the 31-day running mean around this day\n",
    "2. the criterion above has to be fulfilled for at least 3 continuous days\n",
    "\n",
    "Here, there are 2 modifications to the original approach:\n",
    "1. the 30-year average is set to the last 30 years before the evalutation period (winter 1970/1971 - 1999/2000) instead of 1981 - 2010\n",
    "2. the daily mean temperature is used instead of the daily minimum temperature\n",
    "\n",
    "Reference: Smid, M., Russo, S., Costa, A., Granell, C., & Pebesma, E. (2019). Ranking European capitals by\n",
    "exposure to heat waves and cold waves. Urban Climate, 27, 388–402. doi:https://doi.org/10\n",
    ".1016/j.uclim.2018.12.010 ."
   ]
  },
  {
   "cell_type": "markdown",
   "metadata": {},
   "source": [
    "#### Set the paths' to the defined functions, the style sheet for plotting and tthe configuration file and set its name"
   ]
  },
  {
   "cell_type": "code",
   "execution_count": null,
   "metadata": {},
   "outputs": [],
   "source": [
    "# Set the path to the defined functions.\n",
    "PATH_defined_functions = './Defined_Functions/'"
   ]
  },
  {
   "cell_type": "code",
   "execution_count": null,
   "metadata": {},
   "outputs": [],
   "source": [
    "# Set the path and name of the style file which should be used for plotting.\n",
    "style_file_for_plotting = './Style_File_Matplotlib.mplstyle'"
   ]
  },
  {
   "cell_type": "code",
   "execution_count": null,
   "metadata": {},
   "outputs": [],
   "source": [
    "# Set the path and name of the configuration file.\n",
    "PATH_configurations = './Configurations/'\n",
    "ifile_configurations = 'Configurations_Thresholds_Cold_Waves.yaml'"
   ]
  },
  {
   "cell_type": "markdown",
   "metadata": {},
   "source": [
    "#### Import the necessary python packages and functions"
   ]
  },
  {
   "cell_type": "code",
   "execution_count": null,
   "metadata": {},
   "outputs": [],
   "source": [
    "# Import the necessary python packages.\n",
    "import yaml\n",
    "import numpy as np\n",
    "import calendar\n",
    "from datetime import datetime, timedelta\n",
    "import xarray as xr\n",
    "import matplotlib.pyplot as plt\n",
    "import matplotlib.dates as mdates"
   ]
  },
  {
   "cell_type": "code",
   "execution_count": null,
   "metadata": {},
   "outputs": [],
   "source": [
    "# Read in the necessary functions.\n",
    "import sys\n",
    "sys.path.insert(1, PATH_defined_functions)\n",
    "from read_in_csv_data import *\n",
    "from truncate_data_by_date import*\n",
    "from create_auxiliary_date import *"
   ]
  },
  {
   "cell_type": "markdown",
   "metadata": {},
   "source": [
    "#### Read in the style sheet for plotting"
   ]
  },
  {
   "cell_type": "code",
   "execution_count": null,
   "metadata": {},
   "outputs": [],
   "source": [
    "# Load the style sheet to be used by matplotlib for plotting. This will update the plotting\n",
    "# parameters to e.g. have the right font, font size and figure size. The latter is adjusted to\n",
    "# the textwidth of the LaTeX-document in order to avoid re-scaling the plot and changing \n",
    "# thereby the font size again.\n",
    "plt.style.use(style_file_for_plotting)"
   ]
  },
  {
   "cell_type": "markdown",
   "metadata": {},
   "source": [
    "#### Read in the configuration file and the data specified in it"
   ]
  },
  {
   "cell_type": "code",
   "execution_count": null,
   "metadata": {},
   "outputs": [],
   "source": [
    "# Read in the configuration file (nothing needs to be changed here).\n",
    "with open(PATH_configurations+ifile_configurations) as f:\n",
    "    config = yaml.safe_load(f)"
   ]
  },
  {
   "cell_type": "code",
   "execution_count": null,
   "metadata": {},
   "outputs": [],
   "source": [
    "# Read in the ground truth and remove any unnamed columns as well as the index column (nothing \n",
    "# needs to be changed here).\n",
    "df_ground_truth = read_in_csv_data(config['PATH_ground_truth'], config['ifile_ground_truth'])\n",
    "df_ground_truth = df_ground_truth.loc[:, ~df_ground_truth.columns.str.contains('^Unnamed')]\n",
    "df_ground_truth = df_ground_truth.drop(['index'], axis =1 )"
   ]
  },
  {
   "cell_type": "code",
   "execution_count": null,
   "metadata": {},
   "outputs": [],
   "source": [
    "# Set the name of the columns containing the time and the variables of the ground truth.\n",
    "time_column_name_ground_truth = df_ground_truth.columns[0]\n",
    "var_column_name_ground_truth = df_ground_truth.columns[1]"
   ]
  },
  {
   "cell_type": "code",
   "execution_count": null,
   "metadata": {},
   "outputs": [],
   "source": [
    "# Check that everything is selected correctly (nothing needs to be changed here).\n",
    "print('Ground truth to calculate the thresholds for the cold wave definition from: ')\n",
    "print(var_column_name_ground_truth)\n",
    "print('Name of the column containing the time: ')\n",
    "print(time_column_name_ground_truth)\n",
    "print('Dataframe containing the ground truth: ')\n",
    "df_ground_truth.head()"
   ]
  },
  {
   "cell_type": "code",
   "execution_count": null,
   "metadata": {},
   "outputs": [],
   "source": [
    "# Read in the ground truth and remove any unnamed columns as well as the index column.\n",
    "df_climatological_ensemble = read_in_csv_data(config['PATH_climatological_ensemble'], config['ifile_climatological_ensemble'])\n",
    "df_climatological_ensemble = df_climatological_ensemble.loc[:, ~df_climatological_ensemble.columns.str.contains('^Unnamed')]\n",
    "df_climatological_ensemble = df_climatological_ensemble.drop(['index'], axis =1 )"
   ]
  },
  {
   "cell_type": "code",
   "execution_count": null,
   "metadata": {},
   "outputs": [],
   "source": [
    "# Set the name of the columns containing the time and the variables of the ground truth.\n",
    "time_column_name_climatological_ensemble = df_climatological_ensemble.columns[0]"
   ]
  },
  {
   "cell_type": "code",
   "execution_count": null,
   "metadata": {},
   "outputs": [],
   "source": [
    "# Check that everything is selected correctly.\n",
    "print('Name of the column containing the time: ')\n",
    "print(time_column_name_climatological_ensemble)\n",
    "print('Dataframe containing the ground truth: ')\n",
    "df_climatological_ensemble.head()"
   ]
  },
  {
   "cell_type": "markdown",
   "metadata": {},
   "source": [
    "#### Extract the winters to be used for calculating the thresholds of the cold wave definition"
   ]
  },
  {
   "cell_type": "code",
   "execution_count": null,
   "metadata": {},
   "outputs": [],
   "source": [
    "# The winters used for the calculation of the cold wave threshold are extracted from the \n",
    "# ground truth.\n",
    "start_winter = datetime(config['start_year_of_first_winter'], config['start_month_winter'], config['start_day_winter'])\n",
    "end_winter = datetime(config['start_year_of_last_winter']+1, config['end_month_winter'], config['end_day_winter'])\n",
    "\n",
    "df_ground_truth_truncated = truncate_data_by_date(df_ground_truth, time_column_name_ground_truth, start_winter.strftime('%Y_%m_%d'), end_winter.strftime('%Y_%m_%d')) "
   ]
  },
  {
   "cell_type": "code",
   "execution_count": null,
   "metadata": {},
   "outputs": [],
   "source": [
    "# Here, the minimum, median and maximum from the ground truth is calculated in oder to have visual check of the cold \n",
    "# wave criterion later on.\n",
    "df_ground_truth_for_plotting = df_ground_truth_truncated\n",
    "df_ground_truth_for_plotting['datetime'] = pd.to_datetime(df_ground_truth_for_plotting[time_column_name_ground_truth], format='%Y-%m-%d')\n",
    "df_ground_truth_for_plotting = df_ground_truth_for_plotting.set_index('datetime')\n",
    "ds_ground_truth_for_plotting_min = df_ground_truth_for_plotting.groupby([df_ground_truth_for_plotting.index.month, df_ground_truth_for_plotting.index.day]).min()\n",
    "ds_ground_truth_for_plotting_median = df_ground_truth_for_plotting.groupby([df_ground_truth_for_plotting.index.month, df_ground_truth_for_plotting.index.day]).median()\n",
    "ds_ground_truth_for_plotting_max = df_ground_truth_for_plotting.groupby([df_ground_truth_for_plotting.index.month, df_ground_truth_for_plotting.index.day]).max()"
   ]
  },
  {
   "cell_type": "markdown",
   "metadata": {},
   "source": [
    "#### Apply a running mean to the data according to the cold wave definition\n"
   ]
  },
  {
   "cell_type": "code",
   "execution_count": null,
   "metadata": {},
   "outputs": [],
   "source": [
    "# In a next step, a 31-day rolling mean is applied to the ground truth timeseries.\n",
    "df_ground_truth_truncated['rolling_mean'] = df_ground_truth_truncated[var_column_name_ground_truth].rolling(31, center=True).mean()"
   ]
  },
  {
   "cell_type": "code",
   "execution_count": null,
   "metadata": {},
   "outputs": [],
   "source": [
    "# Afterwards, the column containing the original temperature values is removed.\n",
    "df_ground_truth_truncated = df_ground_truth_truncated.drop([var_column_name_ground_truth], axis=1)"
   ]
  },
  {
   "cell_type": "markdown",
   "metadata": {},
   "source": [
    "#### Calculate the daily threshold values according to the cold wave definition"
   ]
  },
  {
   "cell_type": "code",
   "execution_count": null,
   "metadata": {},
   "outputs": [],
   "source": [
    "# To calculate daily thresholds for the cold waves from the ground truth, the data is sorted\n",
    "# by month and day. To do so, the index of the pandas dataframe has to be set to the time.\n",
    "df_ground_truth_truncated['datetime'] = pd.to_datetime(df_ground_truth_truncated[time_column_name_ground_truth], format='%Y-%m-%d')\n",
    "df_ground_truth_truncated = df_ground_truth_truncated.set_index('datetime')"
   ]
  },
  {
   "cell_type": "code",
   "execution_count": null,
   "metadata": {},
   "outputs": [],
   "source": [
    "# Calculation of the daily thresholds (=10th percentile of the temperature).\n",
    "ds_threshold_cold_waves = df_ground_truth_truncated.groupby([df_ground_truth_truncated.index.month, df_ground_truth_truncated.index.day]).quantile(0.1)"
   ]
  },
  {
   "cell_type": "code",
   "execution_count": null,
   "metadata": {},
   "outputs": [],
   "source": [
    "# The so calculated thresholds are then saved to a new pandas dataframe.\n",
    "df_thresholds_cold_waves = pd.DataFrame()\n",
    "df_thresholds_cold_waves['threshold_cold_wave'] = ds_threshold_cold_waves['rolling_mean']"
   ]
  },
  {
   "cell_type": "markdown",
   "metadata": {},
   "source": [
    "#### Add a new time column for easier handling of the dataframe later on"
   ]
  },
  {
   "cell_type": "code",
   "execution_count": null,
   "metadata": {},
   "outputs": [],
   "source": [
    "# For a nice representation of the date on a plot and easier handling of the data, a \"auxiliary date\" is created. \n",
    "# This is simply a timeseries of dates of a leap year winter (here 2003/2004), which is afterwards sorted\n",
    "# chronologically by month (Jan-Dec).The exact year itself does not matter since only the month and day are relevant.\n",
    "auxiliary_time = create_auxiliary_date(config['start_month_winter'], config['start_day_winter'], config['end_month_winter'], config['end_day_winter'])"
   ]
  },
  {
   "cell_type": "code",
   "execution_count": null,
   "metadata": {},
   "outputs": [],
   "source": [
    "# The auxiliary date is appended to the dataframe containing the thresholds. \n",
    "df_thresholds_cold_waves['auxiliary_date'] = pd.to_datetime(np.array(auxiliary_time))\n",
    "df_thresholds_cold_waves = df_thresholds_cold_waves.reset_index(drop=True)"
   ]
  },
  {
   "cell_type": "code",
   "execution_count": null,
   "metadata": {},
   "outputs": [],
   "source": [
    "# The same is done for the dataframe containing the ground truth for plotting the visual plausibility check of the \n",
    "# cold wave criterion.\n",
    "df_ground_truth_for_plotting_min = pd.DataFrame(ds_ground_truth_for_plotting_min)\n",
    "df_ground_truth_for_plotting_min['auxiliary_date'] = pd.to_datetime(np.array(auxiliary_time))\n",
    "\n",
    "df_ground_truth_for_plotting_median = pd.DataFrame(ds_ground_truth_for_plotting_median)\n",
    "df_ground_truth_for_plotting_median['auxiliary_date'] = pd.to_datetime(np.array(auxiliary_time))\n",
    "\n",
    "df_ground_truth_for_plotting_max = pd.DataFrame(ds_ground_truth_for_plotting_max)\n",
    "df_ground_truth_for_plotting_max['auxiliary_date'] = pd.to_datetime(np.array(auxiliary_time))"
   ]
  },
  {
   "cell_type": "code",
   "execution_count": null,
   "metadata": {},
   "outputs": [],
   "source": [
    "# In a next step, the index of the resulting dataframe is set to the auxiliary date and then ordered\n",
    "# in time. This yields to \"winter-sorted\" (Nov-Apr) values.\n",
    "df_thresholds_cold_waves = df_thresholds_cold_waves.set_index('auxiliary_date')\n",
    "df_thresholds_cold_waves = df_thresholds_cold_waves.sort_index()\n",
    "df_thresholds_cold_waves = df_thresholds_cold_waves.reset_index()"
   ]
  },
  {
   "cell_type": "code",
   "execution_count": null,
   "metadata": {},
   "outputs": [],
   "source": [
    "# Again, the same is done for the ground truth data for plotting the visual plausibility check of the cold wave\n",
    "# criterion.\n",
    "df_ground_truth_for_plotting_min = df_ground_truth_for_plotting_min.set_index('auxiliary_date')\n",
    "df_ground_truth_for_plotting_min = df_ground_truth_for_plotting_min.sort_index()\n",
    "df_ground_truth_for_plotting_min = df_ground_truth_for_plotting_min.reset_index()\n",
    "\n",
    "df_ground_truth_for_plotting_median = df_ground_truth_for_plotting_median.set_index('auxiliary_date')\n",
    "df_ground_truth_for_plotting_median = df_ground_truth_for_plotting_median.sort_index()\n",
    "df_ground_truth_for_plotting_median = df_ground_truth_for_plotting_median.reset_index()\n",
    "\n",
    "df_ground_truth_for_plotting_max = df_ground_truth_for_plotting_max.set_index('auxiliary_date')\n",
    "df_ground_truth_for_plotting_max = df_ground_truth_for_plotting_max.sort_index()\n",
    "df_ground_truth_for_plotting_max = df_ground_truth_for_plotting_max.reset_index()"
   ]
  },
  {
   "cell_type": "markdown",
   "metadata": {},
   "source": [
    "#### Save the threshold values of the cold wave definition in csv-format"
   ]
  },
  {
   "cell_type": "code",
   "execution_count": null,
   "metadata": {},
   "outputs": [],
   "source": [
    "# The dataframe containing the cold wave threshold is saved in csv-format.\n",
    "df_thresholds_cold_waves.to_csv(config['PATH_output_files']+'cold_wave_thresholds_Smid_et_al_2019_for_'+str(config['start_year_of_first_winter'])+'_'+str(config['start_year_of_last_winter']+1)+'.csv')"
   ]
  },
  {
   "cell_type": "markdown",
   "metadata": {},
   "source": [
    "#### Visualize the climatological ensemble for a plausibility check"
   ]
  },
  {
   "cell_type": "code",
   "execution_count": null,
   "metadata": {},
   "outputs": [],
   "source": [
    "# The thresholds for the cold waves are plotted to check their plausibility and the plot saved \n",
    "# in png-format.\n",
    "fig, ax = plt.subplots()\n",
    "for k in range(len(df_climatological_ensemble.columns)-2):\n",
    "    plt.plot(df_thresholds_cold_waves['auxiliary_date'], df_climatological_ensemble[str(config['start_year_of_first_winter']+k)], marker='o', markersize=1, color='grey', linestyle='--')\n",
    "plt.plot(df_thresholds_cold_waves['auxiliary_date'], df_thresholds_cold_waves['threshold_cold_wave'], color='mediumblue', linewidth=2, linestyle='-', label='Cold Wave Threshold')\n",
    "ax.xaxis.set_major_formatter(mdates.DateFormatter('%b'))\n",
    "ax.xaxis.set_minor_formatter(mdates.DateFormatter('%b'))\n",
    "plt.legend(bbox_to_anchor=(0, -0.40), loc='lower left', ncol=2)\n",
    "plt.title('Climatological Ensemble, Winters '+str(config['start_year_of_first_winter'])+'-'+str(config['start_year_of_last_winter']+1))\n",
    "plt.xlabel(time_column_name_ground_truth)\n",
    "plt.ylabel(var_column_name_ground_truth+' in '+config['unit_of_ground_truth_and_predictions'])\n",
    "plt.savefig(config['PATH_plots']+'cold_wave_thresholds_smid_et_al_2019_'+var_column_name_ground_truth+'_for_'+str(config['start_year_of_first_winter'])+'_'+str(config['start_year_of_last_winter']+1)+'.png', bbox_inches='tight')\n",
    "plt.show()\n"
   ]
  },
  {
   "cell_type": "code",
   "execution_count": null,
   "metadata": {},
   "outputs": [],
   "source": [
    "# End of Program"
   ]
  }
 ],
 "metadata": {
  "kernelspec": {
   "display_name": "Python 3",
   "language": "python",
   "name": "python3"
  },
  "language_info": {
   "codemirror_mode": {
    "name": "ipython",
    "version": 3
   },
   "file_extension": ".py",
   "mimetype": "text/x-python",
   "name": "python",
   "nbconvert_exporter": "python",
   "pygments_lexer": "ipython3",
   "version": "3.9.13"
  }
 },
 "nbformat": 4,
 "nbformat_minor": 4
}
