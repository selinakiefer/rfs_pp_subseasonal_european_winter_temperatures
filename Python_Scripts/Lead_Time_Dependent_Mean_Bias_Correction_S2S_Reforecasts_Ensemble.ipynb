{
 "cells": [
  {
   "cell_type": "markdown",
   "metadata": {},
   "source": [
    "# Calculating a Lead Time Dependent Mean Bias Correction for the S2S Reforecasts Ensemble\n",
    "Version 6 May 2024, Selina Kiefer"
   ]
  },
  {
   "cell_type": "markdown",
   "metadata": {},
   "source": [
    "### Input: csv-files\n",
    "ensemble of S2S reforecasts of absolute temperature for a winter in csv-format, continuous timeseries of ground truth temperature in csv-format\n",
    "### Output: csv-file\n",
    "timeseries lead time dependent mean bias corrected S2S reforecasts in csv-format"
   ]
  },
  {
   "cell_type": "markdown",
   "metadata": {},
   "source": [
    "#### Set the paths' to the defined functions and configuration file and set its name"
   ]
  },
  {
   "cell_type": "code",
   "execution_count": null,
   "metadata": {},
   "outputs": [],
   "source": [
    "# Set the path to the defined functions.\n",
    "PATH_defined_functions = './Defined_Functions/'"
   ]
  },
  {
   "cell_type": "code",
   "execution_count": null,
   "metadata": {},
   "outputs": [],
   "source": [
    "# Set the path and name of the configuration file.\n",
    "PATH_configurations = './Configurations/'\n",
    "ifile_configurations = 'Configurations_Lead_Time_Dependent_Mean_Bias_Correction_S2S_Reforecasts_Ensemble.yaml'"
   ]
  },
  {
   "cell_type": "markdown",
   "metadata": {},
   "source": [
    "#### Import the necessary python packages and functions"
   ]
  },
  {
   "cell_type": "code",
   "execution_count": null,
   "metadata": {},
   "outputs": [],
   "source": [
    "# Import the necessary python packages.\n",
    "import yaml\n",
    "import calendar\n",
    "import numpy as np\n",
    "import calendar\n",
    "from datetime import datetime, timedelta\n",
    "import xarray as xr\n",
    "import matplotlib.pyplot as plt\n",
    "import matplotlib.dates as mdates\n",
    "import properscoring as ps"
   ]
  },
  {
   "cell_type": "code",
   "execution_count": null,
   "metadata": {},
   "outputs": [],
   "source": [
    "# Import the necessary defined functions.\n",
    "import sys\n",
    "sys.path.insert(1, PATH_defined_functions)\n",
    "from read_in_csv_data import *\n",
    "from truncate_data_by_date import*\n",
    "from create_auxiliary_date import *"
   ]
  },
  {
   "cell_type": "markdown",
   "metadata": {},
   "source": [
    "#### Read in the configuration file and the data specified in it"
   ]
  },
  {
   "cell_type": "code",
   "execution_count": null,
   "metadata": {},
   "outputs": [],
   "source": [
    "# Read in the configuration file.\n",
    "with open(PATH_configurations+ifile_configurations) as f:\n",
    "    config = yaml.safe_load(f)"
   ]
  },
  {
   "cell_type": "code",
   "execution_count": null,
   "metadata": {},
   "outputs": [],
   "source": [
    "# Read in the s2s_reforecasts_ensemble and remove any unnamed columns as well as the index column.\n",
    "df_s2s_reforecasts_ensemble = read_in_csv_data(config['PATH_s2s_reforecasts_ensemble'], config['ifile_s2s_reforecasts_ensemble'])\n",
    "df_s2s_reforecasts_ensemble = df_s2s_reforecasts_ensemble.loc[:, ~df_s2s_reforecasts_ensemble.columns.str.contains('^Unnamed')]\n",
    "df_s2s_reforecasts_ensemble = df_s2s_reforecasts_ensemble.drop(['index'], axis =1 )"
   ]
  },
  {
   "cell_type": "code",
   "execution_count": null,
   "metadata": {},
   "outputs": [],
   "source": [
    "# Set the name of the columns containing the time and the variables of the S2S reforecasts ensemble.\n",
    "time_column_name_s2s_reforecasts_ensemble = df_s2s_reforecasts_ensemble.columns[0]\n",
    "var_column_name_s2s_reforecasts_ensemble = df_s2s_reforecasts_ensemble.columns[1:]"
   ]
  },
  {
   "cell_type": "code",
   "execution_count": null,
   "metadata": {},
   "outputs": [],
   "source": [
    "# Check that everything is selected correctly.\n",
    "print('Names of ensemble members of the S2S reforecasts ensemble: ')\n",
    "print(var_column_name_s2s_reforecasts_ensemble)\n",
    "print('Name of the column containing the time: ')\n",
    "print(time_column_name_s2s_reforecasts_ensemble)\n",
    "print('Dataframe containing the S2S reforecasts ensemble: ')\n",
    "df_s2s_reforecasts_ensemble.head()"
   ]
  },
  {
   "cell_type": "code",
   "execution_count": null,
   "metadata": {},
   "outputs": [],
   "source": [
    "# Read in the ground truth and remove any unnamed columns as well as the index column.\n",
    "df_ground_truth = read_in_csv_data(config['PATH_ground_truth'], config['ifile_ground_truth'])\n",
    "df_ground_truth = df_ground_truth.loc[:, ~df_ground_truth.columns.str.contains('^Unnamed')]\n",
    "df_ground_truth = df_ground_truth.drop(['index', 'level_0'], axis =1 )"
   ]
  },
  {
   "cell_type": "code",
   "execution_count": null,
   "metadata": {},
   "outputs": [],
   "source": [
    "# Set the name of the columns containing the time and the variables of the ground truth.\n",
    "time_column_name_ground_truth = df_ground_truth.columns[0]\n",
    "var_column_name_ground_truth = df_ground_truth.columns[1]"
   ]
  },
  {
   "cell_type": "code",
   "execution_count": null,
   "metadata": {},
   "outputs": [],
   "source": [
    "# Check that everything is selected correctly.\n",
    "print('Ground truth to compare the s2s_reforecasts ensemble with: ')\n",
    "print(var_column_name_ground_truth)\n",
    "print('Name of the column containing the time: ')\n",
    "print(time_column_name_ground_truth)\n",
    "print('Dataframe containing the ground truth: ')\n",
    "df_ground_truth.head()"
   ]
  },
  {
   "cell_type": "markdown",
   "metadata": {},
   "source": [
    "#### Select only the dates from the ground truth which are present in the S2S reforecast ensemble"
   ]
  },
  {
   "cell_type": "code",
   "execution_count": null,
   "metadata": {},
   "outputs": [],
   "source": [
    "# A list with all start years of the winters in the evaluation period is created. \n",
    "start_years_of_winter = np.arange(config['start_year_of_first_winter'], config['start_year_of_last_winter']+1)"
   ]
  },
  {
   "cell_type": "code",
   "execution_count": null,
   "metadata": {},
   "outputs": [],
   "source": [
    "# Select the evaluation period from the ground truth.\n",
    "start_evaluation_period = datetime(config['start_year_of_first_winter'], config['start_month_winter'], config['start_day_winter'])\n",
    "end_evaluation_period = datetime(config['start_year_of_last_winter']+1, config['end_month_winter'], config['end_day_winter'])\n",
    "\n",
    "df_ground_truth = truncate_data_by_date(df_ground_truth, time_column_name_ground_truth, start_evaluation_period.strftime('%Y_%m_%d'), end_evaluation_period.strftime('%Y_%m_%d')) "
   ]
  },
  {
   "cell_type": "code",
   "execution_count": null,
   "metadata": {},
   "outputs": [],
   "source": [
    "# Find the dates which are present in the S2S reforecasts ensemble and the ground truth data.\n",
    "joint_dates = []\n",
    "l = 0\n",
    "\n",
    "for i in range(len(df_ground_truth[time_column_name_ground_truth])):\n",
    "    if df_ground_truth[time_column_name_ground_truth].iloc[i].strftime('%Y-%m-%d') == df_s2s_reforecasts_ensemble[time_column_name_s2s_reforecasts_ensemble].iloc[l]:\n",
    "        joint_dates.append(df_ground_truth[time_column_name_ground_truth].iloc[i])\n",
    "        l = l+1\n",
    "        if l>len(df_s2s_reforecasts_ensemble[time_column_name_s2s_reforecasts_ensemble])-1:\n",
    "            l = 0\n",
    "    else:\n",
    "        joint_dates.append(np.nan)"
   ]
  },
  {
   "cell_type": "code",
   "execution_count": null,
   "metadata": {},
   "outputs": [],
   "source": [
    "# Append these dates to the dataframe containing the ground truth data.\n",
    "df_ground_truth['joint_dates'] = joint_dates\n",
    "df_ground_truth = df_ground_truth.dropna()\n",
    "df_ground_truth = df_ground_truth.drop(['joint_dates'], axis=1)"
   ]
  },
  {
   "cell_type": "code",
   "execution_count": null,
   "metadata": {},
   "outputs": [],
   "source": [
    "# Set the date as the index of the dataframes.\n",
    "df_ground_truth[time_column_name_ground_truth] = pd.to_datetime(df_ground_truth[time_column_name_ground_truth])\n",
    "df_ground_truth = df_ground_truth.set_index(time_column_name_ground_truth)\n",
    "\n",
    "df_s2s_reforecasts_ensemble[time_column_name_s2s_reforecasts_ensemble] = pd.to_datetime(df_s2s_reforecasts_ensemble[time_column_name_s2s_reforecasts_ensemble])\n",
    "df_s2s_reforecasts_ensemble = df_s2s_reforecasts_ensemble.set_index(time_column_name_s2s_reforecasts_ensemble)"
   ]
  },
  {
   "cell_type": "code",
   "execution_count": null,
   "metadata": {},
   "outputs": [],
   "source": [
    "# Now, the mean bias is calculated with a leave-one-winter-out approach. For all winters but one, the one which \n",
    "# serves as the forecast, the mean ensemble prediction per day is calculated. From this, the ground truth values for\n",
    "# the same day is subtracted which gives the mean bias of that day. Then, the temporal mean over all days is taken.\n",
    "s2s_reforecasts_ensemble = []\n",
    "mean_bias_for_correction = []\n",
    "\n",
    "for start_year in start_years_of_winter:\n",
    "    \n",
    "    month_before_start_winter = datetime(start_year, config['start_month_winter']-1, config['start_day_winter'])\n",
    "    end_winter = datetime(start_year+1, config['end_month_winter'], config['end_day_winter'])\n",
    "    \n",
    "    df_ground_truth_without_respective_winter = df_ground_truth.loc[(df_ground_truth.index < month_before_start_winter) | (df_ground_truth.index > end_winter)]    \n",
    "    df_ground_truth_without_respective_winter = df_ground_truth_without_respective_winter.reset_index()\n",
    "    ground_truth = np.array(df_ground_truth_without_respective_winter[var_column_name_ground_truth])\n",
    "\n",
    "\n",
    "    df_s2s_reforecasts_ensemble_without_respective_winter = df_s2s_reforecasts_ensemble.loc[(df_s2s_reforecasts_ensemble.index < month_before_start_winter) | (df_s2s_reforecasts_ensemble.index > end_winter)]    \n",
    "    \n",
    "    df_s2s_reforecasts_ensemble_without_respective_winter = df_s2s_reforecasts_ensemble_without_respective_winter.reset_index()\n",
    "    s2s_reforecasts_ensemble_without_respective_winter = df_s2s_reforecasts_ensemble_without_respective_winter.drop([time_column_name_s2s_reforecasts_ensemble], axis=1)\n",
    "    s2s_reforecasts_ensemble_without_respective_winter = np.array(np.squeeze(s2s_reforecasts_ensemble_without_respective_winter))\n",
    " \n",
    "    mean_bias_all_dates = []\n",
    " \n",
    "    for m in range(len(s2s_reforecasts_ensemble_without_respective_winter)):\n",
    "        s2s_mean_prediction = np.mean(s2s_reforecasts_ensemble_without_respective_winter[m])\n",
    "        mean_bias_one_date = s2s_mean_prediction - ground_truth[m]\n",
    "        mean_bias_all_dates.append(mean_bias_one_date)\n",
    "    \n",
    "    mean_bias_for_correction.append(np.mean(mean_bias_all_dates))"
   ]
  },
  {
   "cell_type": "code",
   "execution_count": null,
   "metadata": {},
   "outputs": [],
   "source": [
    "# The index of the dataframes containing the ground truth and S2S reforecasts is reset again.\n",
    "df_ground_truth = df_ground_truth.reset_index()\n",
    "df_s2s_reforecasts_ensemble = df_s2s_reforecasts_ensemble.reset_index()"
   ]
  },
  {
   "cell_type": "code",
   "execution_count": null,
   "metadata": {},
   "outputs": [],
   "source": [
    "# Now, the S2S reforecasts ensemble of each year is extracted. From this, the respective mean bias is subtracted and \n",
    "# the so mean bias corrected S2S reforecast ensemble is added to a list.\n",
    "s2s_reforecasts_ensemble = []\n",
    "mean_bias_corrected_s2s_reforecasts_ensemble = []\n",
    "\n",
    "for n in range(len(start_years_of_winter)):\n",
    "    \n",
    "    start_winter = datetime(start_years_of_winter[n], config['start_month_winter'], config['start_day_winter'])\n",
    "    end_winter = datetime(start_years_of_winter[n]+1, config['end_month_winter'], config['end_day_winter'])\n",
    "\n",
    "    df_ground_truth_respective_winter = truncate_data_by_date(df_ground_truth, time_column_name_ground_truth, start_winter.strftime('%Y_%m_%d'), end_winter.strftime('%Y_%m_%d')) \n",
    "   \n",
    "    df_s2s_reforecasts_ensemble_respective_winter = truncate_data_by_date(df_s2s_reforecasts_ensemble, time_column_name_s2s_reforecasts_ensemble, start_winter.strftime('%Y_%m_%d'), end_winter.strftime('%Y_%m_%d')) \n",
    "    \n",
    "    s2s_reforecasts_ensemble_respective_winter = df_s2s_reforecasts_ensemble_respective_winter.drop([time_column_name_s2s_reforecasts_ensemble], axis=1)\n",
    "    s2s_reforecasts_ensemble_respective_winter = np.array(np.squeeze(s2s_reforecasts_ensemble_respective_winter))\n",
    " \n",
    "    s2s_reforecasts_ensemble.append(s2s_reforecasts_ensemble_respective_winter)\n",
    "    \n",
    "    mean_bias_corrected_s2s_reforecasts_ensemble.extend(s2s_reforecasts_ensemble_respective_winter-mean_bias_for_correction[n])"
   ]
  },
  {
   "cell_type": "code",
   "execution_count": null,
   "metadata": {},
   "outputs": [],
   "source": [
    "# In a next step, the mean bias corrected S2S reforecast ensemble is converted into a pandas dataframe again and the\n",
    "# time information about the valid date is added.\n",
    "df_mean_bias_corrected_s2s_reforecasts_ensemble = pd.DataFrame(mean_bias_corrected_s2s_reforecasts_ensemble)\n",
    "df_mean_bias_corrected_s2s_reforecasts_ensemble.insert(0, time_column_name_s2s_reforecasts_ensemble, df_s2s_reforecasts_ensemble[time_column_name_s2s_reforecasts_ensemble])"
   ]
  },
  {
   "cell_type": "code",
   "execution_count": null,
   "metadata": {},
   "outputs": [],
   "source": [
    "# Then, the mean bias corrected S2S reforecast ensemble is saved in csv-format.\n",
    "df_mean_bias_corrected_s2s_reforecasts_ensemble.to_csv(config['PATH_output_file']+'S2S_Reforecast_Ensemble_Mean_Bias_Corrected_Lead_Time_'+config['lead_time']+'_2000_2020.csv')"
   ]
  },
  {
   "cell_type": "code",
   "execution_count": null,
   "metadata": {},
   "outputs": [],
   "source": [
    "# End of Program"
   ]
  }
 ],
 "metadata": {
  "kernelspec": {
   "display_name": "Python 3",
   "language": "python",
   "name": "python3"
  },
  "language_info": {
   "codemirror_mode": {
    "name": "ipython",
    "version": 3
   },
   "file_extension": ".py",
   "mimetype": "text/x-python",
   "name": "python",
   "nbconvert_exporter": "python",
   "pygments_lexer": "ipython3",
   "version": "3.9.13"
  }
 },
 "nbformat": 4,
 "nbformat_minor": 4
}
