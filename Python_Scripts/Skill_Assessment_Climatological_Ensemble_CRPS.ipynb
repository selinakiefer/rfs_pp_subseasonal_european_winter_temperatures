{
 "cells": [
  {
   "cell_type": "markdown",
   "metadata": {},
   "source": [
    "# Assessing the Skill of the Climatological Ensemble with the Continuous Ranked Probability Score (CRPS)\n",
    "Version 19 January 2024, Selina Kiefer"
   ]
  },
  {
   "cell_type": "markdown",
   "metadata": {},
   "source": [
    "### Input: csv-files\n",
    "ensemble of continuous timeseries of ground truth temperature for a winter (e.g. climatological ensemble) in csv-format, continuous timeseries of ground truth temperature in csv-format\n",
    "### Output: csv-file, png-files\n",
    "continuous timeseries of daily CRPS values in csv-format and plotted in png-format as well as the prediction of the climatological ensemble plotted together with the ground truth in png-format"
   ]
  },
  {
   "cell_type": "markdown",
   "metadata": {},
   "source": [
    "#### Set the paths' to the defined functions and configuration file and set its name"
   ]
  },
  {
   "cell_type": "code",
   "execution_count": null,
   "metadata": {},
   "outputs": [],
   "source": [
    "# Set the path to the defined functions.\n",
    "PATH_defined_functions = './Defined_Functions/'"
   ]
  },
  {
   "cell_type": "code",
   "execution_count": null,
   "metadata": {},
   "outputs": [],
   "source": [
    "# Set the path and name of the configuration file.\n",
    "PATH_configurations = './Configurations/'\n",
    "ifile_configurations = 'Configurations_Skill_Assessment_Climatological_Ensemble_with_CRPS.yaml'"
   ]
  },
  {
   "cell_type": "markdown",
   "metadata": {},
   "source": [
    "#### Import the necessary python packages and functions"
   ]
  },
  {
   "cell_type": "code",
   "execution_count": null,
   "metadata": {},
   "outputs": [],
   "source": [
    "# Import the necessary python packages.\n",
    "import yaml\n",
    "import calendar\n",
    "import numpy as np\n",
    "import calendar\n",
    "from datetime import datetime, timedelta\n",
    "import xarray as xr\n",
    "import matplotlib.pyplot as plt\n",
    "import matplotlib.dates as mdates\n",
    "import properscoring as ps"
   ]
  },
  {
   "cell_type": "code",
   "execution_count": null,
   "metadata": {},
   "outputs": [],
   "source": [
    "# Import the necessary defined functions.\n",
    "import sys\n",
    "sys.path.insert(1, PATH_defined_functions)\n",
    "from read_in_csv_data import *\n",
    "from truncate_data_by_date import*\n",
    "from create_auxiliary_date import *"
   ]
  },
  {
   "cell_type": "markdown",
   "metadata": {},
   "source": [
    "#### Read in the configuration file and the data specified in it"
   ]
  },
  {
   "cell_type": "code",
   "execution_count": null,
   "metadata": {},
   "outputs": [],
   "source": [
    "# Read in the configuration file.\n",
    "with open(PATH_configurations+ifile_configurations) as f:\n",
    "    config = yaml.safe_load(f)"
   ]
  },
  {
   "cell_type": "code",
   "execution_count": null,
   "metadata": {},
   "outputs": [],
   "source": [
    "# Read in the climatological_ensemble and remove any unnamed columns as well as the index column.\n",
    "df_climatological_ensemble = read_in_csv_data(config['PATH_climatological_ensemble'], config['ifile_climatological_ensemble'])\n",
    "df_climatological_ensemble = df_climatological_ensemble.loc[:, ~df_climatological_ensemble.columns.str.contains('^Unnamed')]\n",
    "df_climatological_ensemble = df_climatological_ensemble.drop(['index'], axis =1 )"
   ]
  },
  {
   "cell_type": "code",
   "execution_count": null,
   "metadata": {},
   "outputs": [],
   "source": [
    "# Set the name of the columns containing the time and the variables of the climatological_ensemble.\n",
    "time_column_name_climatological_ensemble = df_climatological_ensemble.columns[0]\n",
    "var_column_name_climatological_ensemble = df_climatological_ensemble.columns[1:]"
   ]
  },
  {
   "cell_type": "code",
   "execution_count": null,
   "metadata": {},
   "outputs": [],
   "source": [
    "# Check that everything is selected correctly.\n",
    "print('Names of ensemble members of the climatological ensemble: ')\n",
    "print(var_column_name_climatological_ensemble)\n",
    "print('Name of the column containing the time: ')\n",
    "print(time_column_name_climatological_ensemble)\n",
    "print('Dataframe containing the climatological ensemble: ')\n",
    "df_climatological_ensemble.head()"
   ]
  },
  {
   "cell_type": "code",
   "execution_count": null,
   "metadata": {},
   "outputs": [],
   "source": [
    "# Read in the ground truth and remove any unnamed columns as well as the index column.\n",
    "df_ground_truth = read_in_csv_data(config['PATH_ground_truth'], config['ifile_ground_truth'])\n",
    "df_ground_truth = df_ground_truth.loc[:, ~df_ground_truth.columns.str.contains('^Unnamed')]\n",
    "df_ground_truth = df_ground_truth.drop(['index'], axis =1 )"
   ]
  },
  {
   "cell_type": "code",
   "execution_count": null,
   "metadata": {},
   "outputs": [],
   "source": [
    "# Set the name of the columns containing the time and the variables of the ground truth.\n",
    "time_column_name_ground_truth = df_ground_truth.columns[0]\n",
    "var_column_name_ground_truth = df_ground_truth.columns[1]"
   ]
  },
  {
   "cell_type": "code",
   "execution_count": null,
   "metadata": {},
   "outputs": [],
   "source": [
    "# Check that everything is selected correctly.\n",
    "print('Ground truth to compare the climatological ensemble with: ')\n",
    "print(var_column_name_ground_truth)\n",
    "print('Name of the column containing the time: ')\n",
    "print(time_column_name_ground_truth)\n",
    "print('Dataframe containing the ground truth: ')\n",
    "df_ground_truth.head()"
   ]
  },
  {
   "cell_type": "markdown",
   "metadata": {},
   "source": [
    "#### Prepare the climatological ensemble and the ground truth for the skill assessment "
   ]
  },
  {
   "cell_type": "code",
   "execution_count": null,
   "metadata": {},
   "outputs": [],
   "source": [
    "# A list with all start years of the winters in the evaluation period is created. \n",
    "start_years_of_winter = np.arange(config['start_year_of_first_winter'], config['start_year_of_last_winter']+1)"
   ]
  },
  {
   "cell_type": "code",
   "execution_count": null,
   "metadata": {},
   "outputs": [],
   "source": [
    "# In a next step, two different dataframes are created with the climatological ensemble. One for \n",
    "# regular years and one for leap years. Therefore, the index of the original dataframe is set \n",
    "# to the time and the index of the 29 February is determined. Then, a new  dataframe without \n",
    "# the 29 February is created for regular years. The original dataframe is used for leap years.\n",
    "df_climatological_ensemble[time_column_name_climatological_ensemble]=pd.to_datetime(df_climatological_ensemble[time_column_name_climatological_ensemble])\n",
    "df_climatological_ensemble = df_climatological_ensemble.set_index(time_column_name_climatological_ensemble)\n",
    "index_of_february_29 = df_climatological_ensemble[((df_climatological_ensemble.index.month == 2) & (df_climatological_ensemble.index.day == 29))].index\n",
    "df_climatological_ensemble_without_29_feb = df_climatological_ensemble.drop(index_of_february_29)\n",
    "df_climatological_ensemble = df_climatological_ensemble.reset_index()\n",
    "df_climatological_ensemble_without_29_feb = df_climatological_ensemble_without_29_feb.reset_index()"
   ]
  },
  {
   "cell_type": "code",
   "execution_count": null,
   "metadata": {},
   "outputs": [],
   "source": [
    "# Now, the climatological ensemble of each year is extracted and saved to a list. The same is\n",
    "# done for the ground truth. The respective forecast dates of each year are also saved to a \n",
    "# list. \n",
    "climatological_ensemble = []\n",
    "ground_truth = []\n",
    "forecast_dates = []\n",
    "\n",
    "for start_year_of_winter in start_years_of_winter:\n",
    "    \n",
    "    start_winter = datetime(start_year_of_winter, config['start_month_winter'], config['start_day_winter'])\n",
    "    end_winter = datetime(start_year_of_winter+1, config['end_month_winter'], config['end_day_winter'])\n",
    "\n",
    "    df_ground_truth_respective_winter = truncate_data_by_date(df_ground_truth, time_column_name_ground_truth, start_winter.strftime('%Y_%m_%d'), end_winter.strftime('%Y_%m_%d')) \n",
    "   \n",
    "    if calendar.isleap(start_year_of_winter+1):\n",
    "        df_climatological_ensemble_respective_winter = df_climatological_ensemble   \n",
    "    else:\n",
    "        df_climatological_ensemble_respective_winter = df_climatological_ensemble_without_29_feb\n",
    "    \n",
    "    climatological_ensemble_respective_winter = df_climatological_ensemble_respective_winter.drop([time_column_name_climatological_ensemble], axis=1)\n",
    "    climatological_ensemble_respective_winter = np.array(np.squeeze(climatological_ensemble_respective_winter))\n",
    " \n",
    "    climatological_ensemble.append(climatological_ensemble_respective_winter)\n",
    "    \n",
    "    ground_truth.append(df_ground_truth_respective_winter[var_column_name_ground_truth])\n",
    "    forecast_dates.append(pd.to_datetime(df_ground_truth_respective_winter[time_column_name_ground_truth]))"
   ]
  },
  {
   "cell_type": "markdown",
   "metadata": {},
   "source": [
    "#### Calculation of the CRPS between the ground truth and the climatological ensemble"
   ]
  },
  {
   "cell_type": "code",
   "execution_count": null,
   "metadata": {},
   "outputs": [],
   "source": [
    "# Now, the CRPS between the ground truth data and the QRF forecasts is computed\n",
    "# (ps.crps_ensemble), converted into a dataframe and written into a list. Additionally, a \n",
    "# continuous list of all forecast dates is created.\n",
    "crps = []\n",
    "crps_winterwise = []\n",
    "forecast_time = []\n",
    "\n",
    "for l in range(len(start_years_of_winter)):\n",
    "       \n",
    "    for_crps = ps.crps_ensemble(ground_truth[l], climatological_ensemble[l]) \n",
    "    df_crps = pd.DataFrame(for_crps)\n",
    "    crps.extend(np.array(df_crps))\n",
    "    crps_winterwise.append(np.array(df_crps))\n",
    "    forecast_time.extend(forecast_dates[l])"
   ]
  },
  {
   "cell_type": "code",
   "execution_count": null,
   "metadata": {},
   "outputs": [],
   "source": [
    "# The CRPS and the respective forecast dates are saved in a new dataframe. The CRPS values\n",
    "# are rounded for a nicer representation.\n",
    "df_skill_measure_crps = pd.DataFrame()\n",
    "crps = np.round(crps, decimals=2)\n",
    "\n",
    "df_skill_measure_crps['time'] = forecast_time\n",
    "df_skill_measure_crps['CRPS'] = crps"
   ]
  },
  {
   "cell_type": "markdown",
   "metadata": {},
   "source": [
    "#### Save the CRPS in csv-format"
   ]
  },
  {
   "cell_type": "code",
   "execution_count": null,
   "metadata": {},
   "outputs": [],
   "source": [
    "# Now, the pandas dataframe containing the CRPS values is saved in csv format. \n",
    "df_skill_measure_crps.to_csv(config['PATH_statistics']+config['model_name']+'_CRPS_ground_truth_'+config['ground_truth']+'_'+config['location_ground_truth']+'_input_'+config['input_data']+'_'+config['location_input']+'_'+str(config['start_year_of_first_winter'])+'_'+str(config['start_year_of_last_winter']+1)+'.csv')"
   ]
  },
  {
   "cell_type": "markdown",
   "metadata": {},
   "source": [
    "#### Visualizing the predictions of the climatological ensemble together with the ground truth and the CRPS for a plausibility check"
   ]
  },
  {
   "cell_type": "code",
   "execution_count": null,
   "metadata": {},
   "outputs": [],
   "source": [
    "# Before plotting, the information about the input data which should be shown in the plot title\n",
    "# is converted to a nice-looking string by creating the line-breaks set in the configuration \n",
    "# file.\n",
    "str_input_info_for_plot_titles = config['input_data_title']\n",
    "str_input_info_for_plot_titles = str_input_info_for_plot_titles.replace('|', '\\n')"
   ]
  },
  {
   "cell_type": "code",
   "execution_count": null,
   "metadata": {},
   "outputs": [],
   "source": [
    "# For illustration purposes, the median and two in the configuration file defined percentiles of\n",
    "# the climatological_ensemble are plotted together with the ground truth. This gives a first impression\n",
    "# about the models' forecast skill.\n",
    "for k in range(len(start_years_of_winter)):\n",
    "    fig = plt.subplots()\n",
    "    plt.plot(forecast_dates[k], np.nanmedian(climatological_ensemble[k], axis=1), color='r', label='Median of climatological_ensemble')\n",
    "    plt.fill_between(x=forecast_dates[k], y1=np.nanpercentile(climatological_ensemble[k], config['upper_quantile']*100, axis=1), y2=np.nanpercentile(climatological_ensemble[k], config['lower_quantile']*100, axis=1), color='r', alpha=0.25, label=(str(config['lower_quantile'])+'-'+str(config['upper_quantile'])+' Quantiles of climatological_ensemble'))\n",
    "    plt.plot(forecast_dates[k], np.array(np.squeeze(ground_truth[k])), color='k', linestyle='--', label='Ground Truth')\n",
    "    plt.legend(bbox_to_anchor=(0, -0.15), loc='upper left')\n",
    "    plt.xlabel(time_column_name_ground_truth)\n",
    "    plt.ylabel(var_column_name_ground_truth+' in '+config['unit_of_ground_truth_and_climatological_ensemble'])\n",
    "    plt.title(config['model_name']+' climatological_ensemble: \\n'+str_input_info_for_plot_titles)\n",
    "    plt.savefig(config['PATH_plots']+config['model_name']+'_'+config['ground_truth']+'_'+config['location_ground_truth']+'_input_'+config['input_data']+'_'+config['location_input']+'_'+str(start_years_of_winter[k])+'_'+str(start_years_of_winter[k]+1)+'.png', bbox_inches='tight')"
   ]
  },
  {
   "cell_type": "code",
   "execution_count": null,
   "metadata": {},
   "outputs": [],
   "source": [
    "# The CRPS values for each winter are plotted separately. In combination with the plot above a first plausibility\n",
    "# check is possible. The lower the CRPS value, the more similar the prediction of the climatological \n",
    "# ensemble and the ground truth have to be.\n",
    "for m in range(len(start_years_of_winter)):\n",
    "    fig = plt.subplots()\n",
    "    plt.plot(forecast_dates[m], crps_winterwise[m], color='r', marker='o', markersize=4, linestyle='--')\n",
    "    plt.axhline(y=np.nanmean(crps_winterwise[m]), color='grey', linestyle='-', label='Wintermean')\n",
    "    plt.legend(bbox_to_anchor=(0, -0.15), loc='upper left')\n",
    "    plt.xlabel(time_column_name_ground_truth)\n",
    "    plt.ylabel('CRPS in '+config['unit_of_ground_truth_and_climatological_ensemble'])\n",
    "    plt.title('Daily CRPS of '+config['model_name']+' climatological_ensemble:\\n '+str_input_info_for_plot_titles)\n",
    "    plt.savefig(config['PATH_plots']+config['model_name']+'_CRPS_'+config['ground_truth']+'_'+config['location_ground_truth']+'_input_'+config['input_data']+'_'+config['location_input']+'_'+str(start_years_of_winter[m])+'_'+str(start_years_of_winter[m]+1)+'.png', bbox_inches='tight')"
   ]
  },
  {
   "cell_type": "markdown",
   "metadata": {},
   "source": [
    "#### Visualizing the CRPS for all winters in the evaluation period for a quick overview of the forecasting performance of the climatological ensemble"
   ]
  },
  {
   "cell_type": "code",
   "execution_count": null,
   "metadata": {},
   "outputs": [],
   "source": [
    "# The timeseries of the daily CRPS values is plotted for the whole evaluation period.\n",
    "plt.plot(forecast_time, crps, marker='s', linestyle='', markersize=2, color='r')\n",
    "plt.xlabel(time_column_name_ground_truth)\n",
    "plt.ylabel('CRPS in '+config['unit_of_ground_truth_and_climatological_ensemble'])\n",
    "plt.title('Daily CRPS of '+config['model_name']+' climatological_ensemble: \\n '+str_input_info_for_plot_titles)\n",
    "plt.savefig(config['PATH_plots']+config['model_name']+'_CRPS_'+config['ground_truth']+'_'+config['location_ground_truth']+'_input_'+config['input_data']+'_'+config['location_input']+'_'+str(config['start_year_of_first_winter'])+'_'+str(config['start_year_of_last_winter']+1)+'.png', bbox_inches='tight')"
   ]
  },
  {
   "cell_type": "code",
   "execution_count": null,
   "metadata": {},
   "outputs": [],
   "source": [
    "# End of Program"
   ]
  }
 ],
 "metadata": {
  "kernelspec": {
   "display_name": "Python 3",
   "language": "python",
   "name": "python3"
  },
  "language_info": {
   "codemirror_mode": {
    "name": "ipython",
    "version": 3
   },
   "file_extension": ".py",
   "mimetype": "text/x-python",
   "name": "python",
   "nbconvert_exporter": "python",
   "pygments_lexer": "ipython3",
   "version": "3.9.13"
  }
 },
 "nbformat": 4,
 "nbformat_minor": 4
}
