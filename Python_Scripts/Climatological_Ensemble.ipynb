{
 "cells": [
  {
   "cell_type": "markdown",
   "metadata": {},
   "source": [
    "# Creating a Climatological Ensemble from Ground Truth\n",
    "\n",
    "Version 18 Januar 2024, Selina Kiefer"
   ]
  },
  {
   "cell_type": "markdown",
   "metadata": {},
   "source": [
    "### Input: csv-files\n",
    "continuous timeseries of ground truth temperature in csv-format\n",
    "### Output: csv-file and png-file\n",
    "continuous timeseries of ground truth temperature for a winter, whereby each year is serving as a member in the climatological ensemble, in csv-format and plotted in png-format"
   ]
  },
  {
   "cell_type": "markdown",
   "metadata": {},
   "source": [
    "#### Set the paths' to the defined functions, the style sheet for plotting and the configuration file and set its name"
   ]
  },
  {
   "cell_type": "code",
   "execution_count": null,
   "metadata": {},
   "outputs": [],
   "source": [
    "# Set the path to the defined functions.\n",
    "PATH_defined_functions = './Defined_Functions/'"
   ]
  },
  {
   "cell_type": "code",
   "execution_count": null,
   "metadata": {},
   "outputs": [],
   "source": [
    "# Set the path and name of the style file which should be used for plotting.\n",
    "style_file_for_plotting = './Style_File_Matplotlib.mplstyle'"
   ]
  },
  {
   "cell_type": "code",
   "execution_count": null,
   "metadata": {},
   "outputs": [],
   "source": [
    "# Set the path and name of the configuration file.\n",
    "PATH_configurations = './Configuration_Files/'\n",
    "ifile_configurations = 'Configurations_Climatological_Ensemble.yaml'"
   ]
  },
  {
   "cell_type": "markdown",
   "metadata": {},
   "source": [
    "#### Import the necessary python packages and functions"
   ]
  },
  {
   "cell_type": "code",
   "execution_count": null,
   "metadata": {},
   "outputs": [],
   "source": [
    "# Import the necessary python packages.\n",
    "import yaml\n",
    "import numpy as np\n",
    "import calendar\n",
    "from datetime import datetime, timedelta\n",
    "import xarray as xr\n",
    "import matplotlib.pyplot as plt\n",
    "import matplotlib.dates as mdates"
   ]
  },
  {
   "cell_type": "code",
   "execution_count": null,
   "metadata": {},
   "outputs": [],
   "source": [
    "# Read in the necessary defined functions.\n",
    "import sys\n",
    "sys.path.insert(1, PATH_defined_functions)\n",
    "from read_in_csv_data import *\n",
    "from truncate_data_by_date import*\n",
    "from create_auxiliary_date import *"
   ]
  },
  {
   "cell_type": "markdown",
   "metadata": {},
   "source": [
    "#### Read in the style sheet for plotting"
   ]
  },
  {
   "cell_type": "code",
   "execution_count": null,
   "metadata": {},
   "outputs": [],
   "source": [
    "# Load the style sheet to be used by matplotlib for plotting. This will update the plotting\n",
    "# parameters to e.g. have the right font, font size and figure size. The latter is adjusted to\n",
    "# the textwidth of the LaTeX-document in order to avoid re-scaling the plot and changing \n",
    "# thereby the font size again.\n",
    "plt.style.use(style_file_for_plotting)\n",
    "import warnings\n",
    "warnings.simplefilter(action='ignore')"
   ]
  },
  {
   "cell_type": "markdown",
   "metadata": {},
   "source": [
    "#### Read in the configuration file and the data specified in it"
   ]
  },
  {
   "cell_type": "code",
   "execution_count": null,
   "metadata": {},
   "outputs": [],
   "source": [
    "# Read in the configuration file (nothing needs to be changed here).\n",
    "with open(PATH_configurations+ifile_configurations) as f:\n",
    "    config = yaml.safe_load(f)"
   ]
  },
  {
   "cell_type": "code",
   "execution_count": null,
   "metadata": {},
   "outputs": [],
   "source": [
    "# Read in the ground truth and remove any unnamed columns as well as the index column (nothing \n",
    "# needs to be changed here).\n",
    "df_ground_truth = read_in_csv_data(config['PATH_ground_truth'], config['ifile_ground_truth'])\n",
    "df_ground_truth = df_ground_truth.loc[:, ~df_ground_truth.columns.str.contains('^Unnamed')]\n",
    "df_ground_truth = df_ground_truth.drop(['index', 'level_0'], axis =1 )"
   ]
  },
  {
   "cell_type": "code",
   "execution_count": null,
   "metadata": {},
   "outputs": [],
   "source": [
    "# Set the name of the columns containing the time and the variables of the ground truth.\n",
    "time_column_name_ground_truth = df_ground_truth.columns[0]\n",
    "var_column_name_ground_truth = df_ground_truth.columns[1]"
   ]
  },
  {
   "cell_type": "code",
   "execution_count": null,
   "metadata": {},
   "outputs": [],
   "source": [
    "# Check that everything is selected correctly (nothing needs to be changed here).\n",
    "print('Ground truth to calculate the thresholds for the cold wave definition from: ')\n",
    "print(var_column_name_ground_truth)\n",
    "print('Name of the column containing the time: ')\n",
    "print(time_column_name_ground_truth)\n",
    "print('Dataframe containing the ground truth: ')\n",
    "df_ground_truth.head()"
   ]
  },
  {
   "cell_type": "markdown",
   "metadata": {},
   "source": [
    "#### Extract the winters to create the climatological ensemble from"
   ]
  },
  {
   "cell_type": "code",
   "execution_count": null,
   "metadata": {},
   "outputs": [],
   "source": [
    "# The winters used for the calculation of the climatological ensemble are extracted from the \n",
    "# ground truth.\n",
    "start_winter = datetime(config['start_year_of_first_winter'], config['start_month_winter'], config['start_day_winter'])\n",
    "end_winter = datetime(config['start_year_of_last_winter']+1, config['end_month_winter'], config['end_day_winter'])\n",
    "\n",
    "df_ground_truth_truncated = truncate_data_by_date(df_ground_truth, time_column_name_ground_truth, start_winter.strftime('%Y_%m_%d'), end_winter.strftime('%Y_%m_%d'))   "
   ]
  },
  {
   "cell_type": "markdown",
   "metadata": {},
   "source": [
    "#### Sort the data by month and day, so that every used winter becomes  one ensemble member"
   ]
  },
  {
   "cell_type": "code",
   "execution_count": null,
   "metadata": {},
   "outputs": [],
   "source": [
    "# To calculate a climatological ensemble, the data needs to be sorted by month and day. To do\n",
    "# so, the time column is converted to a datetime-object and set as the index of the dataframe.\n",
    "df_ground_truth_truncated['datetime'] = pd.to_datetime(df_ground_truth_truncated[time_column_name_ground_truth], format='%Y-%m-%d')\n",
    "df_ground_truth_truncated = df_ground_truth_truncated.set_index('datetime')"
   ]
  },
  {
   "cell_type": "code",
   "execution_count": null,
   "metadata": {},
   "outputs": [],
   "source": [
    "# The dates in the datetime column are now separated into year, month and day. Each of these, \n",
    "# is stored in a separate column and then the index is reset.\n",
    "df_ground_truth_truncated['year'] = df_ground_truth_truncated.index.year\n",
    "df_ground_truth_truncated['month'] = df_ground_truth_truncated.index.month\n",
    "df_ground_truth_truncated['day'] = df_ground_truth_truncated.index.day\n",
    "df_ground_truth_truncated = df_ground_truth_truncated.reset_index()"
   ]
  },
  {
   "cell_type": "code",
   "execution_count": null,
   "metadata": {},
   "outputs": [],
   "source": [
    "# In the next step, the dataframe is reshaped (pivot_table). The month and day are used as new\n",
    "# rows and the years as columns. The ensemble members of the climatological ensemble are \n",
    "# therefore the respective columns and the time/dates are the rows.\n",
    "df_climatological_ensemble = df_ground_truth_truncated.pivot_table(index=['month', 'day'], columns='year', values=var_column_name_ground_truth)\n",
    "df_climatological_ensemble = df_climatological_ensemble.reset_index()"
   ]
  },
  {
   "cell_type": "markdown",
   "metadata": {},
   "source": [
    "#### Add a new time column for easier handling of the dataframe later on"
   ]
  },
  {
   "cell_type": "code",
   "execution_count": null,
   "metadata": {},
   "outputs": [],
   "source": [
    "# For an easier handling of the data later on, an \"auxiliary date\" is created. This is simply a\n",
    "# timeseries of dates of a leap year winter (here 2003/2004), which is afterwards sorted \n",
    "# chronologically by month (Jan-Dec). The exact year itself does not matter since only the month\n",
    "# and day are relevant for the climatological ensemble and furthermore only these two will be \n",
    "# shown on a plot.\n",
    "auxiliary_time = create_auxiliary_date(config['start_month_winter'], config['start_day_winter'], config['end_month_winter'], config['end_day_winter'])"
   ]
  },
  {
   "cell_type": "code",
   "execution_count": null,
   "metadata": {},
   "outputs": [],
   "source": [
    "# Then, the auxiliary date is appended to the dataframe containing the climatological ensemble.\n",
    "df_climatological_ensemble['auxiliary_date'] = pd.to_datetime(np.array(auxiliary_time))"
   ]
  },
  {
   "cell_type": "code",
   "execution_count": null,
   "metadata": {},
   "outputs": [],
   "source": [
    "# In a next step, this dataframe is sorted by time (the auxiliary time) to obtain the data in the\n",
    "# order of a winter instead of in the order of ascending months.\n",
    "df_climatological_ensemble = df_climatological_ensemble.set_index('auxiliary_date')\n",
    "df_climatological_ensemble = df_climatological_ensemble.sort_index()\n",
    "df_climatological_ensemble = df_climatological_ensemble.reset_index()"
   ]
  },
  {
   "cell_type": "code",
   "execution_count": null,
   "metadata": {},
   "outputs": [],
   "source": [
    "# Then, the index column is renamed from year to 'None' and another column called 'index' is\n",
    "# inserted automatically. This is not on purpose and therefore deleted again.\n",
    "df_climatological_ensemble = df_climatological_ensemble.rename_axis(None, axis=1)\n",
    "df_climatological_ensemble = df_climatological_ensemble.drop(['month', 'day'], axis=1)\n",
    "df_climatological_ensemble = df_climatological_ensemble.reset_index()\n",
    "df_climatological_ensemble = df_climatological_ensemble.drop(['index'], axis=1)"
   ]
  },
  {
   "cell_type": "markdown",
   "metadata": {},
   "source": [
    "#### Save the climatological ensemble in csv-format"
   ]
  },
  {
   "cell_type": "code",
   "execution_count": null,
   "metadata": {},
   "outputs": [],
   "source": [
    "# This dataframe containing the winter-sorted climatological ensemble is saved to a csv-file. \n",
    "df_climatological_ensemble.to_csv(config['PATH_output_files']+'daily_climatological_ensemble_'+var_column_name_ground_truth+'_'+str(config['start_year_of_first_winter'])+'_'+str(config['start_year_of_last_winter']+1)+'.csv') "
   ]
  },
  {
   "cell_type": "markdown",
   "metadata": {},
   "source": [
    "#### Visualize the climatological ensemble for a plausibility check"
   ]
  },
  {
   "cell_type": "code",
   "execution_count": null,
   "metadata": {},
   "outputs": [],
   "source": [
    "# The climatological ensemble is plotted to check its plausibility and the plot saved in \n",
    "# csv-format.\n",
    "fig, ax = plt.subplots()\n",
    "for k in range(len(df_climatological_ensemble.columns)-2):\n",
    "    plt.plot(df_climatological_ensemble['auxiliary_date'], df_climatological_ensemble[config['start_year_of_first_winter']+k], marker='o', markersize=2, linestyle='--')\n",
    "ax.xaxis.set_major_formatter(mdates.DateFormatter('%b'))\n",
    "ax.xaxis.set_minor_formatter(mdates.DateFormatter('%b'))\n",
    "plt.title('Daily Climatological Ensemble ('+str(config['start_year_of_first_winter'])+'-'+str(config['start_year_of_last_winter']+1)+')')\n",
    "plt.xlabel(time_column_name_ground_truth)\n",
    "plt.ylabel(var_column_name_ground_truth+' in '+config['unit_of_ground_truth_and_predictions'])\n",
    "plt.savefig(config['PATH_plots']+'daily_climatological_ensemble_'+var_column_name_ground_truth+'_'+str(config['start_year_of_first_winter'])+'_'+str(config['start_year_of_last_winter']+1)+'.png', bbox_inches='tight')"
   ]
  },
  {
   "cell_type": "code",
   "execution_count": null,
   "metadata": {},
   "outputs": [],
   "source": [
    "# End of Program"
   ]
  }
 ],
 "metadata": {
  "kernelspec": {
   "display_name": "Python 3",
   "language": "python",
   "name": "python3"
  },
  "language_info": {
   "codemirror_mode": {
    "name": "ipython",
    "version": 3
   },
   "file_extension": ".py",
   "mimetype": "text/x-python",
   "name": "python",
   "nbconvert_exporter": "python",
   "pygments_lexer": "ipython3",
   "version": "3.9.13"
  }
 },
 "nbformat": 4,
 "nbformat_minor": 4
}
