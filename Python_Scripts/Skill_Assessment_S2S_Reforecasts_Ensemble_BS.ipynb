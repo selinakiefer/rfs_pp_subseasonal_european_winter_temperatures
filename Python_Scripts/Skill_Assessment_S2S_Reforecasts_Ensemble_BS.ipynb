{
 "cells": [
  {
   "cell_type": "markdown",
   "metadata": {},
   "source": [
    "# Assessing the Skill of the S2S Reforecasts Ensemble with the Brier Score (BS)\n",
    "Version 19 January 2024, Selina Kiefer"
   ]
  },
  {
   "cell_type": "markdown",
   "metadata": {},
   "source": [
    "### Input: csv-files\n",
    "ensemble of S2S reforecasts of absolute temperature for a winter in csv-format, continuous timeseries of ground truth temperature in csv-format\n",
    "### Output: csv-file, png-files\n",
    "timeseries of daily BS values in csv-format and plotted in png-format as well as the prediction of the S2S reforecasts ensemble plotted together with the ground truth in png-format"
   ]
  },
  {
   "cell_type": "markdown",
   "metadata": {},
   "source": [
    "#### Set the paths' to the defined functions and configuration file and set its name"
   ]
  },
  {
   "cell_type": "code",
   "execution_count": null,
   "metadata": {},
   "outputs": [],
   "source": [
    "# Set the path to the defined functions.\n",
    "PATH_defined_functions = './Defined_Functions/'"
   ]
  },
  {
   "cell_type": "code",
   "execution_count": null,
   "metadata": {},
   "outputs": [],
   "source": [
    "# Set the path and name of the configuration file.\n",
    "PATH_configurations = './Configurations/'\n",
    "ifile_configurations = 'Configurations_Skill_Assessment_S2S_Reforecasts_Ensemble_with_BS.yaml'"
   ]
  },
  {
   "cell_type": "markdown",
   "metadata": {},
   "source": [
    "#### Import the necessary python packages and functions"
   ]
  },
  {
   "cell_type": "code",
   "execution_count": null,
   "metadata": {},
   "outputs": [],
   "source": [
    "# Import the necessary python packages.\n",
    "import yaml\n",
    "import numpy as np\n",
    "import calendar\n",
    "from datetime import datetime, timedelta\n",
    "import xarray as xr\n",
    "import matplotlib.pyplot as plt\n",
    "import matplotlib.dates as mdates"
   ]
  },
  {
   "cell_type": "code",
   "execution_count": null,
   "metadata": {},
   "outputs": [],
   "source": [
    "# Import the necessary defined functions.\n",
    "import sys\n",
    "sys.path.insert(1, PATH_defined_functions)\n",
    "from read_in_csv_data import *\n",
    "from truncate_data_by_date import*\n",
    "from create_auxiliary_date import *\n",
    "from apply_cold_wave_definition_smid_et_al_2019 import *"
   ]
  },
  {
   "cell_type": "markdown",
   "metadata": {},
   "source": [
    "#### Read in the configuration file and the data specified in it"
   ]
  },
  {
   "cell_type": "code",
   "execution_count": null,
   "metadata": {},
   "outputs": [],
   "source": [
    "# Read in the configuration file.\n",
    "with open(PATH_configurations+ifile_configurations) as f:\n",
    "    config = yaml.safe_load(f)"
   ]
  },
  {
   "cell_type": "code",
   "execution_count": null,
   "metadata": {},
   "outputs": [],
   "source": [
    "# Read in the s2s_reforecasts_ensemble and remove any unnamed columns as well as the index column.\n",
    "df_s2s_reforecasts_ensemble = read_in_csv_data(config['PATH_s2s_reforecasts_ensemble'], config['ifile_s2s_reforecasts_ensemble'])\n",
    "df_s2s_reforecasts_ensemble = df_s2s_reforecasts_ensemble.loc[:, ~df_s2s_reforecasts_ensemble.columns.str.contains('^Unnamed')]\n",
    "df_s2s_reforecasts_ensemble = df_s2s_reforecasts_ensemble.drop(['index', 'threshold_cold_wave'], axis =1 )"
   ]
  },
  {
   "cell_type": "code",
   "execution_count": null,
   "metadata": {},
   "outputs": [],
   "source": [
    "# Set the name of the columns containing the time and the variables of the s2s_reforecasts_ensemble.\n",
    "time_column_name_s2s_reforecasts_ensemble = df_s2s_reforecasts_ensemble.columns[0]\n",
    "var_column_name_s2s_reforecasts_ensemble = df_s2s_reforecasts_ensemble.columns[1:]"
   ]
  },
  {
   "cell_type": "code",
   "execution_count": null,
   "metadata": {},
   "outputs": [],
   "source": [
    "# Check that everything is selected correctly.\n",
    "print('Names of s2s_reforecasts_ensemble done by the ML model: ')\n",
    "print(var_column_name_s2s_reforecasts_ensemble)\n",
    "print('Name of the column containing the time: ')\n",
    "print(time_column_name_s2s_reforecasts_ensemble)\n",
    "print('Dataframe containing the climatological ensemble: ')\n",
    "df_s2s_reforecasts_ensemble.head()"
   ]
  },
  {
   "cell_type": "code",
   "execution_count": null,
   "metadata": {},
   "outputs": [],
   "source": [
    "# Read in the ground truth and remove any unnamed columns as well as the index column.\n",
    "df_ground_truth = read_in_csv_data(config['PATH_ground_truth'], config['ifile_ground_truth'])\n",
    "df_ground_truth = df_ground_truth.loc[:, ~df_ground_truth.columns.str.contains('^Unnamed')]\n",
    "df_ground_truth = df_ground_truth.drop(['index'], axis =1 )"
   ]
  },
  {
   "cell_type": "code",
   "execution_count": null,
   "metadata": {},
   "outputs": [],
   "source": [
    "# Set the name of the columns containing the time and the variables of the ground truth.\n",
    "time_column_name_ground_truth = df_ground_truth.columns[0]\n",
    "var_column_name_ground_truth = df_ground_truth.columns[1]"
   ]
  },
  {
   "cell_type": "code",
   "execution_count": null,
   "metadata": {},
   "outputs": [],
   "source": [
    "# Check that everything is selected correctly.\n",
    "print('Ground truth to compare the climatological ensemble with: ')\n",
    "print(var_column_name_ground_truth)\n",
    "print('Name of the column containing the time: ')\n",
    "print(time_column_name_ground_truth)\n",
    "print('Dataframe containing the ground truth: ')\n",
    "df_ground_truth.head()"
   ]
  },
  {
   "cell_type": "markdown",
   "metadata": {},
   "source": [
    "#### Select only the dates from the ground truth which are present in the S2S reforecast ensemble"
   ]
  },
  {
   "cell_type": "code",
   "execution_count": null,
   "metadata": {},
   "outputs": [],
   "source": [
    "# A list with all the start years of the winters in the validation period is created. \n",
    "start_years_of_winter = np.arange(config['start_year_of_first_winter'], config['start_year_of_last_winter']+1)"
   ]
  },
  {
   "cell_type": "code",
   "execution_count": null,
   "metadata": {},
   "outputs": [],
   "source": [
    "# Select the evaluation period from the ground truth.\n",
    "start_evaluation_period = datetime(config['start_year_of_first_winter'], config['start_month_winter'], config['start_day_winter'])\n",
    "end_evaluation_period = datetime(config['start_year_of_last_winter']+1, config['end_month_winter'], config['end_day_winter'])\n",
    "\n",
    "df_ground_truth = truncate_data_by_date(df_ground_truth, time_column_name_ground_truth, start_evaluation_period.strftime('%Y_%m_%d'), end_evaluation_period.strftime('%Y_%m_%d')) "
   ]
  },
  {
   "cell_type": "code",
   "execution_count": null,
   "metadata": {},
   "outputs": [],
   "source": [
    "# Find the dates which are present in the S2S reforecasts ensemble and the ground truth data.\n",
    "joint_dates = []\n",
    "l = 0\n",
    "\n",
    "for i in range(len(df_ground_truth[time_column_name_ground_truth])):\n",
    "    if df_ground_truth[time_column_name_ground_truth].iloc[i].strftime('%Y-%m-%d') == df_s2s_reforecasts_ensemble[time_column_name_s2s_reforecasts_ensemble].iloc[l]:\n",
    "        joint_dates.append(df_ground_truth[time_column_name_ground_truth].iloc[i])\n",
    "        l = l+1\n",
    "        if l>len(df_s2s_reforecasts_ensemble[time_column_name_s2s_reforecasts_ensemble])-1:\n",
    "            l = 0\n",
    "    else:\n",
    "        joint_dates.append(np.nan)\n"
   ]
  },
  {
   "cell_type": "code",
   "execution_count": null,
   "metadata": {},
   "outputs": [],
   "source": [
    "# Append these dates to the dataframe containing the ground truth data.\n",
    "df_ground_truth['joint_dates'] = joint_dates\n",
    "df_ground_truth = df_ground_truth.dropna()\n",
    "df_ground_truth = df_ground_truth.drop(['joint_dates'], axis=1)"
   ]
  },
  {
   "cell_type": "code",
   "execution_count": null,
   "metadata": {},
   "outputs": [],
   "source": [
    "# Then, the needed thresholds for the respective winter are taken and the respective\n",
    "# winter is extracted from the ground truth and the s2s_reforecasts_ensemble. Then, the cold wave criterion\n",
    "# by Smid et al. (2019) is applied to the s2s_reforecasts_ensemble. In the end, lists\n",
    "# containing the ground truth, the fraction of the climatological ensemble showing a cold \n",
    "# wave and the forecast dates are created.\n",
    "forecast_dates = []\n",
    "\n",
    "list_members_cold_waves_s2s_reforecasts_ensemble = []\n",
    "list_cold_waves_s2s_reforecasts_ensemble = []\n",
    "\n",
    "all_winters_list_cold_waves_ground_truth = []\n",
    "all_winters_list_cold_waves_s2s_reforecasts_ensemble = []\n",
    "\n",
    "for start_year_of_winter in start_years_of_winter:\n",
    "    \n",
    "    start_winter = datetime(start_year_of_winter, config['start_month_winter'], config['start_day_winter'])\n",
    "    end_winter = datetime(start_year_of_winter+1, config['end_month_winter'], config['end_day_winter'])\n",
    "\n",
    "    df_ground_truth_respective_winter = truncate_data_by_date(df_ground_truth, time_column_name_ground_truth, start_winter.strftime('%Y_%m_%d'), end_winter.strftime('%Y_%m_%d')) \n",
    "    df_s2s_reforecasts_ensemble_respective_winter = truncate_data_by_date(df_s2s_reforecasts_ensemble, time_column_name_s2s_reforecasts_ensemble, start_winter.strftime('%Y_%m_%d'), end_winter.strftime('%Y_%m_%d'))     \n",
    "    \n",
    "    list_cold_waves_ground_truth = df_ground_truth_respective_winter[var_column_name_ground_truth]\n",
    "    \n",
    "    df_s2s_reforecasts_ensemble_time_column = pd.DataFrame()    \n",
    "    df_s2s_reforecasts_ensemble_time_column['time'] = df_s2s_reforecasts_ensemble_respective_winter[time_column_name_s2s_reforecasts_ensemble]\n",
    "       \n",
    "    list_cold_waves_s2s_reforecasts_ensemble = []\n",
    "    \n",
    "    df_s2s_reforecasts_ensemble_respective_winter = df_s2s_reforecasts_ensemble_respective_winter.drop([time_column_name_s2s_reforecasts_ensemble], axis=1)\n",
    "    list_cold_waves_s2s_reforecasts_ensemble = np.mean(df_s2s_reforecasts_ensemble_respective_winter, axis=1)\n",
    "    \n",
    "    all_winters_list_cold_waves_ground_truth.append(list_cold_waves_ground_truth)\n",
    "    all_winters_list_cold_waves_s2s_reforecasts_ensemble.append(np.squeeze(list_cold_waves_s2s_reforecasts_ensemble))\n",
    "    \n",
    "    forecast_dates.append(pd.to_datetime(df_ground_truth_respective_winter[time_column_name_ground_truth]))"
   ]
  },
  {
   "cell_type": "markdown",
   "metadata": {},
   "source": [
    "#### Calculation of the BS between the ground truth and the S2S reforecasts ensemble"
   ]
  },
  {
   "cell_type": "code",
   "execution_count": null,
   "metadata": {},
   "outputs": [],
   "source": [
    "# Now, the daily BS is computed and saved to a list. Furthermore, the forecast time is saved in\n",
    "# continuous form to a list.\n",
    "forecast_time = []\n",
    "bs_daily_one_year = []\n",
    "bs = []\n",
    "bs_winterwise = []\n",
    "\n",
    "for k in range(len(start_years_of_winter)):\n",
    "    forecast_time.extend(forecast_dates[k])\n",
    "    bs_one_year = 0\n",
    "    bs_daily_one_year = []\n",
    "    for l in range(len(all_winters_list_cold_waves_s2s_reforecasts_ensemble[k])):\n",
    "        bs_daily = (all_winters_list_cold_waves_s2s_reforecasts_ensemble[k][l]-all_winters_list_cold_waves_ground_truth[k][l])**2\n",
    "        bs_daily_one_year.append(bs_daily)\n",
    "    bs.extend(np.array(bs_daily_one_year))\n",
    "    bs_winterwise.append(np.array(bs_daily_one_year))"
   ]
  },
  {
   "cell_type": "code",
   "execution_count": null,
   "metadata": {},
   "outputs": [],
   "source": [
    "# Then, a dataframe containing the daily BS values and the corresponding forecasting times is\n",
    "# created. \n",
    "df_skill_measure_bs = pd.DataFrame()\n",
    "df_skill_measure_bs['time'] = forecast_time\n",
    "df_skill_measure_bs['BS'] = np.array(bs)"
   ]
  },
  {
   "cell_type": "markdown",
   "metadata": {},
   "source": [
    "#### Save the BS in csv-format"
   ]
  },
  {
   "cell_type": "code",
   "execution_count": null,
   "metadata": {},
   "outputs": [],
   "source": [
    "# This pandas dataframe containing the BS values is saved in csv format. \n",
    "df_skill_measure_bs.to_csv(config['PATH_statistics']+config['model_name']+'_BS_ground_truth_'+config['ground_truth']+'_'+config['location_ground_truth']+'_input_'+config['input_data']+'_'+config['location_input']+'_'+str(config['start_year_of_first_winter'])+'_'+str(config['start_year_of_last_winter']+1)+'_lead_time_'+config['lead_time']+'.csv')"
   ]
  },
  {
   "cell_type": "markdown",
   "metadata": {},
   "source": [
    "#### Visualizing the predictions of the S2S reforecasts ensemble together with the ground truth and the BS for a plausibility check"
   ]
  },
  {
   "cell_type": "code",
   "execution_count": null,
   "metadata": {},
   "outputs": [],
   "source": [
    "# Before plotting, the information about the input data which should be shown in the plot title\n",
    "# is converted to a nice-looking string by creating the line-breaks set in the configuration \n",
    "# file.\n",
    "str_input_info_for_plot_titles = config['input_data_title']\n",
    "str_input_info_for_plot_titles = str_input_info_for_plot_titles.replace('|', '\\n')"
   ]
  },
  {
   "cell_type": "code",
   "execution_count": null,
   "metadata": {},
   "outputs": [],
   "source": [
    "# For illustration purposes, the fraction of ensemble members of the S2S reforecasts ensemble predicting a cold wave\n",
    "# day is plotted with the cold waves in the ground truth. This gives a first impression about\n",
    "# the model's forecast skill.\n",
    "for i in range(len(start_years_of_winter)):\n",
    "    fig = plt.subplots()\n",
    "    plt.plot(forecast_dates[i], all_winters_list_cold_waves_ground_truth[i], color='k', linestyle='--', label='Ground Truth')\n",
    "    plt.plot(forecast_dates[i], all_winters_list_cold_waves_s2s_reforecasts_ensemble[i], marker='o', linestyle='', color='chocolate', alpha=0.6, label='S2S Reforecasts Ensemble')    \n",
    "    plt.legend(bbox_to_anchor=(0, -0.15), loc='upper left')\n",
    "    plt.xlabel(time_column_name_ground_truth)\n",
    "    plt.ylabel('Fraction of Ensemble Members \\n Predicting a Cold Wave')\n",
    "    plt.title(config['model_name']+', Lead Time '+config['lead_time']+':\\n '+str_input_info_for_plot_titles)\n",
    "    plt.savefig(config['PATH_plots']+config['model_name']+'_'+config['ground_truth']+'_'+config['location_ground_truth']+'_input_'+config['input_data']+'_'+config['location_input']+'_'+str(start_years_of_winter[i])+'_'+str(start_years_of_winter[i]+1)+'_lead_time_'+config['lead_time']+'.png', bbox_inches='tight')"
   ]
  },
  {
   "cell_type": "code",
   "execution_count": null,
   "metadata": {},
   "outputs": [],
   "source": [
    "# The BS values for each winter are plotted separately. In combination with the plot above a first plausibility\n",
    "# check is possible. The lower the BS value, the more similar the prediction of the S2S reforecasts \n",
    "# ensemble and the ground truth have to be.\n",
    "for n in range(len(start_years_of_winter)):\n",
    "    fig = plt.subplots()\n",
    "    plt.plot(forecast_dates[n], bs_winterwise[n], color='chocolate', marker='o', markersize=4, linestyle='--')\n",
    "    plt.axhline(y=np.nanmean(bs_winterwise[n]), color='grey', linestyle='-', label='Wintermean')\n",
    "    plt.legend(bbox_to_anchor=(0, -0.15), loc='upper left')\n",
    "    plt.xlabel(time_column_name_ground_truth)\n",
    "    plt.ylabel('BS')\n",
    "    plt.title('Daily BS of '+config['model_name']+', Lead Time '+config['lead_time']+':\\n '+str_input_info_for_plot_titles)\n",
    "    plt.savefig(config['PATH_plots']+config['model_name']+'_BS_'+config['ground_truth']+'_'+config['location_ground_truth']+'_input_'+config['input_data']+'_'+config['location_input']+'_'+str(start_years_of_winter[n])+'_'+str(start_years_of_winter[n]+1)+'_lead_time_'+config['lead_time']+'.png', bbox_inches='tight')"
   ]
  },
  {
   "cell_type": "markdown",
   "metadata": {},
   "source": [
    "#### Visualizing the BS for all winters in the evaluation period for a quick overview of the forecasting performance of the climatological ensemble"
   ]
  },
  {
   "cell_type": "code",
   "execution_count": null,
   "metadata": {
    "scrolled": true
   },
   "outputs": [],
   "source": [
    "# The timeseries of the daily BS values is plotted for all winters in the evaluation period. \n",
    "plt.plot(forecast_time, bs, marker='s', linestyle='', markersize=2, color='chocolate')\n",
    "plt.xlabel(time_column_name_ground_truth)\n",
    "plt.ylabel('BS')\n",
    "plt.title('Daily BS of '+config['model_name']+', Lead Time '+config['lead_time']+': \\n '+str_input_info_for_plot_titles)\n",
    "plt.savefig(config['PATH_plots']+config['model_name']+'_BS_'+config['ground_truth']+'_'+config['location_ground_truth']+'_input_'+config['input_data']+'_'+config['location_input']+'_'+str(config['start_year_of_first_winter'])+'_'+str(config['start_year_of_last_winter']+1)+'_lead_time_'+config['lead_time']+'.png', bbox_inches='tight')"
   ]
  },
  {
   "cell_type": "code",
   "execution_count": null,
   "metadata": {},
   "outputs": [],
   "source": [
    "# End of Program"
   ]
  }
 ],
 "metadata": {
  "kernelspec": {
   "display_name": "Python 3",
   "language": "python",
   "name": "python3"
  },
  "language_info": {
   "codemirror_mode": {
    "name": "ipython",
    "version": 3
   },
   "file_extension": ".py",
   "mimetype": "text/x-python",
   "name": "python",
   "nbconvert_exporter": "python",
   "pygments_lexer": "ipython3",
   "version": "3.9.13"
  }
 },
 "nbformat": 4,
 "nbformat_minor": 4
}
