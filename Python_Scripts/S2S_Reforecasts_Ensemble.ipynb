{
 "cells": [
  {
   "cell_type": "markdown",
   "id": "a3aa11b2",
   "metadata": {},
   "source": [
    " # Create an S2S Reforecast Ensemble\n",
    " Version 18 January 2024, Selina Kiefer"
   ]
  },
  {
   "cell_type": "markdown",
   "id": "8cdab88e",
   "metadata": {},
   "source": [
    "### Input: grib-files\n",
    "S2S reforecasts at a specific time step in grib-format (e.g. from https://apps.ecmwf.int/datasets/data/s2s-reforecasts-daily-averaged-ecmf/levtype=sfc/type=cf/)\n",
    "### Output: csv-file, png-files\n",
    "S2S reforecast ensemble consisting of the control run and all perturbed runs in csv-format and plotted in png-format"
   ]
  },
  {
   "cell_type": "markdown",
   "id": "5a6b52b7",
   "metadata": {},
   "source": [
    "#### Set the paths' to the defined functions, the style sheet for plotting and the configuration file and set its name"
   ]
  },
  {
   "cell_type": "code",
   "execution_count": null,
   "id": "153cdd76",
   "metadata": {},
   "outputs": [],
   "source": [
    "# Set the path to the defined functions.\n",
    "PATH_defined_functions = './Defined_Functions/'"
   ]
  },
  {
   "cell_type": "code",
   "execution_count": null,
   "id": "430390d7",
   "metadata": {},
   "outputs": [],
   "source": [
    "# Set the path and name of the style file which should be used for plotting.\n",
    "style_file_for_plotting = './Style_File_Matplotlib.mplstyle'"
   ]
  },
  {
   "cell_type": "code",
   "execution_count": null,
   "id": "fcaa5dba",
   "metadata": {},
   "outputs": [],
   "source": [
    "# Set the path and name of the configuration file.\n",
    "PATH_configurations = '/Configuration_Files/'\n",
    "ifile_configurations = 'Configurations_S2S_Reforecasts_Ensemble.yaml'"
   ]
  },
  {
   "cell_type": "markdown",
   "id": "1b0d42fd",
   "metadata": {},
   "source": [
    "#### Import the necessary python packages and functions"
   ]
  },
  {
   "cell_type": "code",
   "execution_count": null,
   "id": "57548472",
   "metadata": {},
   "outputs": [],
   "source": [
    "# Import the necessary python packages.\n",
    "import yaml\n",
    "import cfgrib\n",
    "import xarray as xr\n",
    "import numpy as np\n",
    "import matplotlib.pyplot as plt\n",
    "from tqdm.notebook import tqdm"
   ]
  },
  {
   "cell_type": "code",
   "execution_count": null,
   "id": "5f72cbd9",
   "metadata": {},
   "outputs": [],
   "source": [
    "# Read in the necessary defined functions.\n",
    "import sys\n",
    "sys.path.insert(1, PATH_defined_functions)\n",
    "from read_in_csv_data import *"
   ]
  },
  {
   "cell_type": "markdown",
   "id": "a85d65df",
   "metadata": {},
   "source": [
    "#### Read in the style sheet for plotting"
   ]
  },
  {
   "cell_type": "code",
   "execution_count": null,
   "id": "2566dd9f",
   "metadata": {},
   "outputs": [],
   "source": [
    "# Load the style sheet to be used by matplotlib for plotting. This will update the plotting\n",
    "# parameters to e.g. have the right font, font size and figure size. The latter is adjusted to\n",
    "# the textwidth of the LaTeX-document in order to avoid re-scaling the plot and changing \n",
    "# thereby the font size again.\n",
    "plt.style.use(style_file_for_plotting)\n",
    "import warnings\n",
    "warnings.simplefilter(action='ignore')"
   ]
  },
  {
   "cell_type": "markdown",
   "id": "67bdf062",
   "metadata": {},
   "source": [
    "#### Read in the configuration file and the data specified in it"
   ]
  },
  {
   "cell_type": "code",
   "execution_count": null,
   "id": "af357a97",
   "metadata": {},
   "outputs": [],
   "source": [
    "# Read in the configuration file (nothing needs to be changed here).\n",
    "with open(PATH_configurations+ifile_configurations) as f:\n",
    "    config = yaml.safe_load(f)"
   ]
  },
  {
   "cell_type": "code",
   "execution_count": null,
   "id": "3c70e518",
   "metadata": {},
   "outputs": [],
   "source": [
    "# Read in the control run of the S2S reforecasts and show its variables.\n",
    "input_data_control = xr.open_dataset(config['PATH_s2s_reforecasts']+config['ifiles_s2s_reforecasts_control'][0], engine='cfgrib')\n",
    "df_input_data_control = input_data_control.to_dataframe()\n",
    "df_input_data_control = df_input_data_control.reset_index() \n",
    "df_input_data_control"
   ]
  },
  {
   "cell_type": "code",
   "execution_count": null,
   "id": "0ac14224",
   "metadata": {},
   "outputs": [],
   "source": [
    "# Read in the perturbed runs of the S2S reforecasts and show their variables.\n",
    "input_data_perturbed = xr.open_dataset(config['PATH_s2s_reforecasts']+config['ifiles_s2s_reforecasts_perturbed'][0], engine='cfgrib')\n",
    "df_input_data_perturbed = input_data_perturbed.to_dataframe()\n",
    "df_input_data_perturbed = df_input_data_perturbed.reset_index() \n",
    "df_input_data_perturbed"
   ]
  },
  {
   "cell_type": "code",
   "execution_count": null,
   "id": "262f8257",
   "metadata": {},
   "outputs": [],
   "source": [
    "# Read in the area mask for Central Europe.\n",
    "df_area_mask = read_in_csv_data(config['PATH_area_mask'], config['ifile_area_mask'])\n",
    "df_area_mask = df_area_mask.drop(['index', 'Unnamed: 0'], axis=1)\n",
    "df_area_mask"
   ]
  },
  {
   "cell_type": "markdown",
   "id": "f3ad0585",
   "metadata": {},
   "source": [
    "#### Adjust the mask based on the E-OBS elevation data to be compatibel with the S2S reforecast data\n",
    "E.g. upscaling from a 0.25° resolution to a resolution of 1.5°"
   ]
  },
  {
   "cell_type": "code",
   "execution_count": null,
   "id": "14863168",
   "metadata": {},
   "outputs": [],
   "source": [
    "# At first, drop any unnecessary columns.\n",
    "df_area_mask = df_area_mask.drop(['elevation'], axis=1)"
   ]
  },
  {
   "cell_type": "code",
   "execution_count": null,
   "id": "169a54d7",
   "metadata": {},
   "outputs": [],
   "source": [
    "# Round the longitude and latitude values of the area mask to the nearest 0.5 float in order to be compatible with\n",
    "# the grid points used in the S2S reforecasts.\n",
    "df_area_mask['longitude'] = round(df_area_mask['longitude'] * 2) / 2.0\n",
    "df_area_mask['latitude'] = round(df_area_mask['latitude'] * 2) / 2.0"
   ]
  },
  {
   "cell_type": "code",
   "execution_count": null,
   "id": "4079c795",
   "metadata": {},
   "outputs": [],
   "source": [
    "# Only take longitudes and latitudes present in the S2S reforecasts (grid spacing of 1.5°).\n",
    "df_area_mask['longitude'] = df_area_mask['longitude'].where(np.mod(df_area_mask['longitude'],1.5)==0)\n",
    "df_area_mask['latitude'] = df_area_mask['latitude'].where(np.mod(df_area_mask['latitude'],1.5)==0)\n",
    "df_area_mask = df_area_mask.dropna()\n",
    "df_area_mask = df_area_mask.drop_duplicates(['longitude', 'latitude'])"
   ]
  },
  {
   "cell_type": "code",
   "execution_count": null,
   "id": "30c98f2e",
   "metadata": {},
   "outputs": [],
   "source": [
    "# Sort the mask by longitude and latitude (same as the sorting of the S2S reforecasts) and repeat each value of the\n",
    "# mask by the number of reforecasted winters in order to have the same length as the reforecast data.\n",
    "df_area_mask = df_area_mask.sort_values(by=['longitude', 'latitude'])\n",
    "area_mask_for_control_runs = np.repeat(df_area_mask['eroded_mask'], len(np.unique(df_input_data_control['valid_time'])))\n",
    "area_mask_for_perturbed_runs =  np.tile(area_mask_for_control_runs, len(np.unique(df_input_data_perturbed['number'])))"
   ]
  },
  {
   "cell_type": "markdown",
   "id": "539bce33",
   "metadata": {},
   "source": [
    "#### Create an ensemble of S2S reforecasts"
   ]
  },
  {
   "cell_type": "code",
   "execution_count": null,
   "id": "bf82eb8c",
   "metadata": {},
   "outputs": [],
   "source": [
    "# Create an ensemble of S2S reforecasts.\n",
    "df_s2s_reforecast_ensemble = pd.DataFrame()\n",
    "\n",
    "for i in tqdm(range(len(config['ifiles_s2s_reforecasts_control']))):\n",
    "    # Read in the control runs.\n",
    "    input_data_control = xr.open_dataset(config['PATH_s2s_reforecasts']+config['ifiles_s2s_reforecasts_control'][i], engine='cfgrib')\n",
    "    df_input_data_control = input_data_control.to_dataframe()\n",
    "    df_input_data_control = df_input_data_control.reset_index() \n",
    "\n",
    "    # At first, drop the columns containing unnecessary information. Then, select the area comprising Central Europe \n",
    "    # and sort the data y longitude and latitude.\n",
    "    df_input_data_control = df_input_data_control.drop(['time', 'step', 'heightAboveGround'], axis=1)\n",
    "    df_input_data_control = df_input_data_control.where(df_input_data_control['longitude']>2)\n",
    "    df_input_data_control = df_input_data_control.where(df_input_data_control['longitude']<21)\n",
    "    df_input_data_control = df_input_data_control.where(df_input_data_control['latitude']>44)\n",
    "    df_input_data_control = df_input_data_control.where(df_input_data_control['latitude']<61)\n",
    "    df_input_data_control = df_input_data_control.dropna()\n",
    "    df_input_data_control = df_input_data_control.sort_values(by=['longitude', 'latitude'])\n",
    "    \n",
    "    # Add the mask to the dataframe containing the control runs data.\n",
    "    df_input_data_control['area_mask'] = np.array(area_mask_for_control_runs)\n",
    "    \n",
    "    # In a next step, the mask is applied to the data by multiplication. Again, the valid values keep their value and the\n",
    "    # values which are masked are set to 0 by the multiplication with the binary mask. Since in the next step an areal \n",
    "    # mean will be calculated, the zeros are set to NaNs.\n",
    "    df_input_data_control['mask_applied_to_t2m'] = df_input_data_control['t2m']*df_input_data_control['area_mask']\n",
    "    df_input_data_control['mask_applied_to_t2m'] = df_input_data_control['mask_applied_to_t2m'].replace(0, np.nan)\n",
    "    df_input_data_control = df_input_data_control.drop(['t2m', 'area_mask'], axis=1)\n",
    "    \n",
    "    # Then, all rows containing NaNs are dropped. Now, the aerial mean is calculated for every day.\n",
    "    df_input_data_control = df_input_data_control.dropna()\n",
    "    df_input_data_control = df_input_data_control.groupby(df_input_data_control['valid_time']).mean()\n",
    "    df_input_data_control = df_input_data_control.reset_index()\n",
    "    df_input_data_control = df_input_data_control.drop(['latitude', 'longitude'], axis=1)\n",
    "\n",
    "    \n",
    "    # Next, read in the perturbed runs.\n",
    "    input_data_perturbed = xr.open_dataset(config['PATH_s2s_reforecasts']+config['ifiles_s2s_reforecasts_perturbed'][i], engine='cfgrib')\n",
    "    df_input_data_perturbed = input_data_perturbed.to_dataframe()\n",
    "    df_input_data_perturbed = df_input_data_perturbed.reset_index() \n",
    "    \n",
    "    # Then, drop the columns containing unnecessary information, select the area comprising Central Europe and\n",
    "    # sort the data by longitude and latitude.\n",
    "    df_input_data_perturbed = df_input_data_perturbed.drop(['time', 'step', 'heightAboveGround'], axis=1)\n",
    "    df_input_data_perturbed = df_input_data_perturbed.where(df_input_data_perturbed['longitude']>2)\n",
    "    df_input_data_perturbed = df_input_data_perturbed.where(df_input_data_perturbed['longitude']<21)\n",
    "    df_input_data_perturbed = df_input_data_perturbed.where(df_input_data_perturbed['latitude']>44)\n",
    "    df_input_data_perturbed = df_input_data_perturbed.where(df_input_data_perturbed['latitude']<61)\n",
    "    df_input_data_perturbed = df_input_data_perturbed.dropna()\n",
    "    df_input_data_perturbed = df_input_data_perturbed.sort_values(by=['longitude', 'latitude'])\n",
    "    \n",
    "    # Add the mask to the dataframe containing the perturbed runs data.\n",
    "    df_input_data_perturbed['area_mask'] = np.array(area_mask_for_perturbed_runs)\n",
    "    \n",
    "    # In a next step, the mask is applied to the data by multiplication. Again, the valid values keep their value and the\n",
    "    # values which are masked are set to 0 by the multiplication with the binary mask. Since in the next step an areal \n",
    "    # mean will be calculated, the zeros are set to NaNs.\n",
    "    df_input_data_perturbed['mask_applied_to_t2m'] = df_input_data_perturbed['t2m']*df_input_data_perturbed['area_mask']\n",
    "    df_input_data_perturbed['mask_applied_to_t2m'] = df_input_data_perturbed['mask_applied_to_t2m'].replace(0, np.nan)\n",
    "    df_input_data_perturbed = df_input_data_perturbed.drop(['t2m', 'area_mask'], axis=1)\n",
    "    \n",
    "    # Now, all rows containing NaNs are dropped. Then, the aerial mean is calculated for every day.\n",
    "    df_input_data_perturbed = df_input_data_perturbed.dropna()\n",
    "    df_input_data_perturbed = df_input_data_perturbed.groupby([df_input_data_perturbed['valid_time'], df_input_data_perturbed['number']]).mean()\n",
    "    df_input_data_perturbed = df_input_data_perturbed.reset_index()\n",
    "    df_input_data_perturbed = df_input_data_perturbed.drop(['latitude', 'longitude'], axis=1)\n",
    "    \n",
    "    \n",
    "    # Combine the control and the perturbed runs.\n",
    "    df_s2s_reforecast_ensemble = pd.concat([df_s2s_reforecast_ensemble, df_input_data_perturbed, df_input_data_control], ignore_index=True, sort=False)\n",
    "    \n",
    "# Sort the S2S reforecast ensemble in a sensible way.\n",
    "df_s2s_reforecast_ensemble = df_s2s_reforecast_ensemble.sort_values(by=['valid_time', 'number'])\n",
    "df_s2s_reforecast_ensemble = df_s2s_reforecast_ensemble.reset_index()\n",
    "df_s2s_reforecast_ensemble = df_s2s_reforecast_ensemble.drop(['index'], axis=1)  \n",
    "     "
   ]
  },
  {
   "cell_type": "code",
   "execution_count": null,
   "id": "697f1dcc",
   "metadata": {},
   "outputs": [],
   "source": [
    "# Bring the S2S reforecast ensemble into a nice representation.\n",
    "df_s2s_reforecast_ensemble = df_s2s_reforecast_ensemble.set_index(['valid_time','number'])['mask_applied_to_t2m'].unstack()\n",
    "df_s2s_reforecast_ensemble = df_s2s_reforecast_ensemble.reset_index()\n",
    "df_s2s_reforecast_ensemble = df_s2s_reforecast_ensemble.rename_axis(None, axis=1)"
   ]
  },
  {
   "cell_type": "markdown",
   "id": "87681ea5",
   "metadata": {},
   "source": [
    "#### Save the S2S reforecast ensemble in csv-format"
   ]
  },
  {
   "cell_type": "code",
   "execution_count": null,
   "id": "27fcab48",
   "metadata": {},
   "outputs": [],
   "source": [
    "# Save the S2S reforecast ensemble.\n",
    "df_s2s_reforecast_ensemble.to_csv(config['PATH_output_files']+'S2S_Reforecast_Ensemble_Lead_Time_'+config['lead_time']+'_2000_2020.csv')"
   ]
  },
  {
   "cell_type": "markdown",
   "id": "cbe82096",
   "metadata": {},
   "source": [
    "#### Visualize the S2S reforecast ensemble for a plausibility check"
   ]
  },
  {
   "cell_type": "code",
   "execution_count": null,
   "id": "065398b7",
   "metadata": {},
   "outputs": [],
   "source": [
    "# Plot the S2S reforecast ensemble for all winters for a plausibility check.\n",
    "fig, ax = plt.subplots()\n",
    "for k in range(10):\n",
    "    plt.plot(df_s2s_reforecast_ensemble['valid_time'], df_s2s_reforecast_ensemble[float(k)], marker='o', linestyle='', markersize=1)\n",
    "plt.xlabel('time')\n",
    "plt.ylabel('t2m')\n",
    "plt.title('ECMWF S2S Reforecasts, Lead Time '+config['lead_time'])\n",
    "plt.savefig(config['PATH_plots']+'S2S_Reforecast_Ensemble_Lead_Time_'+config['lead_time']+'_Winter_2000_2020.png', bbox_inches='tight')"
   ]
  },
  {
   "cell_type": "code",
   "execution_count": null,
   "id": "cfe54fe5",
   "metadata": {},
   "outputs": [],
   "source": [
    "# Plot the S2S reforecast ensemble for a single winter for a plausibility check.\n",
    "df_s2s_reforecast_ensemble_winter_2011_2012 = df_s2s_reforecast_ensemble.iloc[572:623]\n",
    "fig, ax = plt.subplots()\n",
    "for k in range(10):\n",
    "    plt.plot(df_s2s_reforecast_ensemble_winter_2011_2012['valid_time'], df_s2s_reforecast_ensemble_winter_2011_2012[float(k)], marker='o', linestyle='--', linewidth=1, markersize=3)\n",
    "    plt.xlabel('time')\n",
    "plt.ylabel('t2m')\n",
    "plt.title('ECMWF S2S Reforecasts, Lead Time '+config['lead_time'])\n",
    "plt.savefig(config['PATH_plots']+'S2S_Reforecast_Ensemble_Lead_Time_'+config['lead_time']+'_Winter_2011_2012.png', bbox_inches='tight')"
   ]
  },
  {
   "cell_type": "code",
   "execution_count": null,
   "id": "cbfc11a6",
   "metadata": {},
   "outputs": [],
   "source": [
    "# End of Program."
   ]
  }
 ],
 "metadata": {
  "kernelspec": {
   "display_name": "Python 3",
   "language": "python",
   "name": "python3"
  },
  "language_info": {
   "codemirror_mode": {
    "name": "ipython",
    "version": 3
   },
   "file_extension": ".py",
   "mimetype": "text/x-python",
   "name": "python",
   "nbconvert_exporter": "python",
   "pygments_lexer": "ipython3",
   "version": "3.9.13"
  }
 },
 "nbformat": 4,
 "nbformat_minor": 5
}
