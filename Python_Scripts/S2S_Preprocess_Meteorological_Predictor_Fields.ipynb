{
 "cells": [
  {
   "cell_type": "markdown",
   "metadata": {},
   "source": [
    "# Combine S2S-Reforecasts with Different Initializations into One File\n",
    "Version 19 January 2024, Selina Kiefer"
   ]
  },
  {
   "cell_type": "markdown",
   "metadata": {},
   "source": [
    "### Input: grib-files\n",
    "S2S reforecasts of one meteorological predictor field at a specific timestep in grib format (e.g. from https://apps.ecmwf.int/datasets/data/s2s-reforecasts-daily-averaged-ecmf/levtype=sfc/type=cf/)\n",
    "### Output: csv-file\n",
    "continuous timeseries of S2S reforecasts of one meteorological predictor field in csv-format"
   ]
  },
  {
   "cell_type": "markdown",
   "metadata": {},
   "source": [
    "#### Define the paths' and files' names"
   ]
  },
  {
   "cell_type": "code",
   "execution_count": null,
   "metadata": {},
   "outputs": [],
   "source": [
    "# Set the needed path and file names.\n",
    "PATH_defined_functions = './Defined_Functions/'\n",
    "\n",
    "PATH_input_data = './Data_in_grib_Format/'\n",
    "ifiles_input_data_control = ['s2s_control_u10_05_Oct_2000_2020',\n",
    "                      's2s_control_u10_08_Oct_2000_2020',\n",
    "                      's2s_control_u10_12_Oct_2000_2020',\n",
    "                      's2s_control_u10_15_Oct_2000_2020',\n",
    "                     's2s_control_u10_19_Oct_2000_2020',\n",
    "                     's2s_control_u10_22_Oct_2000_2020', \n",
    "                     's2s_control_u10_26_Oct_2000_2020', \n",
    "                     's2s_control_u10_29_Oct_2000_2020', \n",
    "                     's2s_control_u10_02_Nov_2000_2020',\n",
    "                     's2s_control_u10_05_Nov_2000_2020',\n",
    "                     's2s_control_u10_09_Nov_2000_2020',\n",
    "                     's2s_control_u10_12_Nov_2000_2020', \n",
    "                     's2s_control_u10_16_Nov_2000_2020',\n",
    "                     's2s_control_u10_19_Nov_2000_2020', \n",
    "                     's2s_control_u10_23_Nov_2000_2020', \n",
    "                     's2s_control_u10_26_Nov_2000_2020',\n",
    "                     's2s_control_u10_30_Nov_2000_2020',\n",
    "                     's2s_control_u10_03_Dec_2000_2020', \n",
    "                     's2s_control_u10_07_Dec_2000_2020',\n",
    "                     's2s_control_u10_10_Dec_2000_2020',\n",
    "                     's2s_control_u10_14_Dec_2000_2020',\n",
    "                     's2s_control_u10_17_Dec_2000_2020',\n",
    "                     's2s_control_u10_21_Dec_2000_2020',\n",
    "                     's2s_control_u10_24_Dec_2000_2020',\n",
    "                     's2s_control_u10_28_Dec_2000_2020',\n",
    "                     's2s_control_u10_31_Dec_2000_2020',\n",
    "                     's2s_control_u10_04_Jan_2000_2020',\n",
    "                     's2s_control_u10_07_Jan_2000_2020',\n",
    "                     's2s_control_u10_11_Jan_2000_2020',\n",
    "                     's2s_control_u10_14_Jan_2000_2020',\n",
    "                     's2s_control_u10_18_Jan_2000_2020',\n",
    "                     's2s_control_u10_21_Jan_2000_2020',\n",
    "                     's2s_control_u10_25_Jan_2000_2020',\n",
    "                     's2s_control_u10_28_Jan_2000_2020',\n",
    "                     's2s_control_u10_01_Feb_2000_2020',\n",
    "                     's2s_control_u10_04_Feb_2000_2020',\n",
    "                     's2s_control_u10_08_Feb_2000_2020',\n",
    "                     's2s_control_u10_11_Feb_2000_2020',\n",
    "                     's2s_control_u10_15_Feb_2000_2020',\n",
    "                     's2s_control_u10_18_Feb_2000_2020',\n",
    "                     's2s_control_u10_22_Feb_2000_2020',\n",
    "                     's2s_control_u10_25_Feb_2000_2020',\n",
    "                     's2s_control_u10_01_Mar_2000_2020',\n",
    "                     's2s_control_u10_04_Mar_2000_2020',\n",
    "                     's2s_control_u10_08_Mar_2000_2020',\n",
    "                     's2s_control_u10_11_Mar_2000_2020',\n",
    "                     's2s_control_u10_15_Mar_2000_2020',\n",
    "                     's2s_control_u10_18_Mar_2000_2020',\n",
    "                     's2s_control_u10_22_Mar_2000_2020',\n",
    "                     's2s_control_u10_25_Mar_2000_2020',\n",
    "                     's2s_control_u10_29_Mar_2000_2020',\n",
    "                     's2s_control_u10_01_Apr_2000_2020']#,\n",
    "                     #'s2s_control_u10_05_Apr_2000_2020',\n",
    "                     #'s2s_control_u10_08_Apr_2000_2020']#,\n",
    "                     #'s2s_control_u10_12_Apr_2000_2020',\n",
    "                     #'s2s_control_u10_15_Apr_2000_2020']\n",
    "\n",
    "ifiles_input_data_perturbed = ['s2s_perturbed_u10_05_Oct_2000_2020',\n",
    "                      's2s_perturbed_u10_08_Oct_2000_2020',\n",
    "                      's2s_perturbed_u10_12_Oct_2000_2020',\n",
    "                      's2s_perturbed_u10_15_Oct_2000_2020',\n",
    "                     's2s_perturbed_u10_19_Oct_2000_2020',\n",
    "                     's2s_perturbed_u10_22_Oct_2000_2020', \n",
    "                     's2s_perturbed_u10_26_Oct_2000_2020', \n",
    "                     's2s_perturbed_u10_29_Oct_2000_2020', \n",
    "                     's2s_perturbed_u10_02_Nov_2000_2020',\n",
    "                     's2s_perturbed_u10_05_Nov_2000_2020',\n",
    "                     's2s_perturbed_u10_09_Nov_2000_2020',\n",
    "                     's2s_perturbed_u10_12_Nov_2000_2020', \n",
    "                     's2s_perturbed_u10_16_Nov_2000_2020',\n",
    "                     's2s_perturbed_u10_19_Nov_2000_2020', \n",
    "                     's2s_perturbed_u10_23_Nov_2000_2020', \n",
    "                     's2s_perturbed_u10_26_Nov_2000_2020',\n",
    "                     's2s_perturbed_u10_30_Nov_2000_2020',\n",
    "                     's2s_perturbed_u10_03_Dec_2000_2020', \n",
    "                     's2s_perturbed_u10_07_Dec_2000_2020',\n",
    "                     's2s_perturbed_u10_10_Dec_2000_2020',\n",
    "                     's2s_perturbed_u10_14_Dec_2000_2020',\n",
    "                     's2s_perturbed_u10_17_Dec_2000_2020',\n",
    "                     's2s_perturbed_u10_21_Dec_2000_2020',\n",
    "                     's2s_perturbed_u10_24_Dec_2000_2020',\n",
    "                     's2s_perturbed_u10_28_Dec_2000_2020',\n",
    "                     's2s_perturbed_u10_31_Dec_2000_2020',\n",
    "                     's2s_perturbed_u10_04_Jan_2000_2020',\n",
    "                     's2s_perturbed_u10_07_Jan_2000_2020',\n",
    "                     's2s_perturbed_u10_11_Jan_2000_2020',\n",
    "                     's2s_perturbed_u10_14_Jan_2000_2020',\n",
    "                     's2s_perturbed_u10_18_Jan_2000_2020',\n",
    "                     's2s_perturbed_u10_21_Jan_2000_2020',\n",
    "                     's2s_perturbed_u10_25_Jan_2000_2020',\n",
    "                     's2s_perturbed_u10_28_Jan_2000_2020',\n",
    "                     's2s_perturbed_u10_01_Feb_2000_2020',\n",
    "                     's2s_perturbed_u10_04_Feb_2000_2020',\n",
    "                     's2s_perturbed_u10_08_Feb_2000_2020',\n",
    "                     's2s_perturbed_u10_11_Feb_2000_2020',\n",
    "                     's2s_perturbed_u10_15_Feb_2000_2020',\n",
    "                     's2s_perturbed_u10_18_Feb_2000_2020',\n",
    "                     's2s_perturbed_u10_22_Feb_2000_2020',\n",
    "                     's2s_perturbed_u10_25_Feb_2000_2020',\n",
    "                     's2s_perturbed_u10_01_Mar_2000_2020',\n",
    "                     's2s_perturbed_u10_04_Mar_2000_2020',\n",
    "                     's2s_perturbed_u10_08_Mar_2000_2020',\n",
    "                     's2s_perturbed_u10_11_Mar_2000_2020',\n",
    "                     's2s_perturbed_u10_15_Mar_2000_2020',\n",
    "                     's2s_perturbed_u10_18_Mar_2000_2020',\n",
    "                     's2s_perturbed_u10_22_Mar_2000_2020',\n",
    "                     's2s_perturbed_u10_25_Mar_2000_2020',\n",
    "                     's2s_perturbed_u10_29_Mar_2000_2020',\n",
    "                     's2s_perturbed_u10_01_Apr_2000_2020']#,\n",
    "                     #'s2s_perturbed_u10_05_Apr_2000_2020',\n",
    "                     #'s2s_perturbed_u10_08_Apr_2000_2020']#,\n",
    "                     #'s2s_perturbed_u10_12_Apr_2000_2020',\n",
    "                     #'s2s_perturbed_u10_15_Apr_2000_2020']\n",
    "\n",
    "PATH_output_file = './Data_in_csv_Format/'\n",
    "file_name_output_file = 's2s_reforecasts_u10_60W_60E_20N_80N_2000_2020_lead_time_28d.csv'"
   ]
  },
  {
   "cell_type": "markdown",
   "metadata": {},
   "source": [
    "#### Import the necessary packages and functions"
   ]
  },
  {
   "cell_type": "code",
   "execution_count": null,
   "metadata": {},
   "outputs": [],
   "source": [
    "# Import the necessary python packages.\n",
    "import yaml\n",
    "import cfgrib\n",
    "import xarray as xr\n",
    "import numpy as np\n",
    "import matplotlib.pyplot as plt\n",
    "from tqdm.notebook import tqdm"
   ]
  },
  {
   "cell_type": "code",
   "execution_count": null,
   "metadata": {},
   "outputs": [],
   "source": [
    "# Read in the necessary defined functions.\n",
    "import sys\n",
    "sys.path.insert(1, PATH_defined_functions)\n",
    "from read_in_csv_data import *"
   ]
  },
  {
   "cell_type": "markdown",
   "metadata": {},
   "source": [
    "#### Read in the data"
   ]
  },
  {
   "cell_type": "code",
   "execution_count": null,
   "metadata": {},
   "outputs": [],
   "source": [
    "# Read in the control run of the S2S reforecasts and show its variables.\n",
    "input_data_control = xr.open_dataset(PATH_input_data+ifiles_input_data_control[0], engine='cfgrib')\n",
    "df_input_data_control = input_data_control.to_dataframe()\n",
    "df_input_data_control = df_input_data_control.reset_index() \n",
    "df_input_data_control"
   ]
  },
  {
   "cell_type": "code",
   "execution_count": null,
   "metadata": {},
   "outputs": [],
   "source": [
    "# Read in the perturbed runs of the S2S reforecasts and show their variables.\n",
    "input_data_perturbed = xr.open_dataset(PATH_input_data+ifiles_input_data_perturbed[0], engine='cfgrib')\n",
    "df_input_data_perturbed = input_data_perturbed.to_dataframe()\n",
    "df_input_data_perturbed = df_input_data_perturbed.reset_index() \n",
    "df_input_data_perturbed"
   ]
  },
  {
   "cell_type": "markdown",
   "metadata": {},
   "source": [
    "#### Combine Control and Perturbed Run of S2S-Reforecasts"
   ]
  },
  {
   "cell_type": "code",
   "execution_count": null,
   "metadata": {},
   "outputs": [],
   "source": [
    "# Create an ensemble of S2S reforecasts.\n",
    "df_s2s_reforecasts = pd.DataFrame()\n",
    "\n",
    "for i in tqdm(range(len(ifiles_input_data_control))):\n",
    "    # Read in the control runs.\n",
    "    input_data_control = xr.open_dataset(PATH_input_data+ifiles_input_data_control[i], engine='cfgrib')\n",
    "    df_input_data_control = input_data_control.to_dataframe()\n",
    "    df_input_data_control = df_input_data_control.reset_index() \n",
    "\n",
    "    # At first, drop the columns containing unnecessary information. Then, select the area comprising Central Europe and\n",
    "    # sort the data y longitude and latitude.\n",
    "    df_input_data_control = df_input_data_control.drop(['time', 'step'], axis=1)\n",
    "    df_input_data_control_lon_1 = df_input_data_control.where(df_input_data_control['longitude']>299)\n",
    "    df_input_data_control_lon_2 = df_input_data_control.where(df_input_data_control['longitude']<61)\n",
    "    df_input_data_control = pd.concat([df_input_data_control_lon_1, df_input_data_control_lon_2])\n",
    "    df_input_data_control = df_input_data_control.where(df_input_data_control['latitude']>19)\n",
    "    df_input_data_control = df_input_data_control.where(df_input_data_control['latitude']<81)\n",
    "    df_input_data_control = df_input_data_control.dropna()\n",
    "    df_input_data_control = df_input_data_control.sort_values(by=['longitude', 'latitude'])\n",
    "    \n",
    "    # Read in the perturbed runs.\n",
    "    input_data_perturbed = xr.open_dataset(PATH_input_data+ifiles_input_data_perturbed[i], engine='cfgrib')\n",
    "    df_input_data_perturbed = input_data_perturbed.to_dataframe()\n",
    "    df_input_data_perturbed = df_input_data_perturbed.reset_index() \n",
    "    \n",
    "    # Again, drop the columns containing unnecessary information. Then, select the area comprising Central Europe and\n",
    "    # sort the data y longitude and latitude.\n",
    "    df_input_data_perturbed = df_input_data_perturbed.drop(['time', 'step'], axis=1)\n",
    "    df_input_data_perturbed_lon_1 = df_input_data_perturbed.where(df_input_data_perturbed['longitude']>299)\n",
    "    df_input_data_perturbed_lon_2 = df_input_data_perturbed.where(df_input_data_perturbed['longitude']<61)\n",
    "    df_input_data_perturbed = pd.concat([df_input_data_perturbed_lon_1, df_input_data_perturbed_lon_2])\n",
    "    df_input_data_perturbed = df_input_data_perturbed.where(df_input_data_perturbed['latitude']>19)\n",
    "    df_input_data_perturbed = df_input_data_perturbed.where(df_input_data_perturbed['latitude']<81)\n",
    "    df_input_data_perturbed = df_input_data_perturbed.dropna()\n",
    "    df_input_data_perturbed = df_input_data_perturbed.sort_values(by=['longitude', 'latitude'])  \n",
    "    \n",
    "    # Combine the control and the perturbed runs.\n",
    "    df_s2s_reforecasts = pd.concat([df_s2s_reforecasts, df_input_data_perturbed, df_input_data_control], ignore_index=True, sort=False)\n",
    "    \n",
    "# Sort the S2S reforecast in a nice way.\n",
    "df_s2s_reforecasts = df_s2s_reforecasts.sort_values(by=['valid_time', 'number'])\n",
    "df_s2s_reforecasts = df_s2s_reforecasts.reset_index()\n",
    "df_s2s_reforecasts = df_s2s_reforecasts.drop(['index'], axis=1)  \n",
    "     "
   ]
  },
  {
   "cell_type": "markdown",
   "metadata": {},
   "source": [
    "#### Doublecheck the representation of the data"
   ]
  },
  {
   "cell_type": "code",
   "execution_count": null,
   "metadata": {},
   "outputs": [],
   "source": [
    "# Check if everything is reshaped and sorted correctly.\n",
    "df_s2s_reforecasts.head()"
   ]
  },
  {
   "cell_type": "code",
   "execution_count": null,
   "metadata": {},
   "outputs": [],
   "source": [
    "# Also check if everything is sorted, renamed or removed correctly at the end of the\n",
    "# dataframe.\n",
    "df_s2s_reforecasts.tail()"
   ]
  },
  {
   "cell_type": "markdown",
   "metadata": {},
   "source": [
    "#### Save the data in csv format"
   ]
  },
  {
   "cell_type": "code",
   "execution_count": null,
   "metadata": {},
   "outputs": [],
   "source": [
    "# Save the pandas dataframe in csv-format.\n",
    "df_s2s_reforecasts.to_csv(PATH_output_file+file_name_output_file)"
   ]
  },
  {
   "cell_type": "code",
   "execution_count": null,
   "metadata": {},
   "outputs": [],
   "source": [
    "# End of Program"
   ]
  }
 ],
 "metadata": {
  "kernelspec": {
   "display_name": "Python 3",
   "language": "python",
   "name": "python3"
  },
  "language_info": {
   "codemirror_mode": {
    "name": "ipython",
    "version": 3
   },
   "file_extension": ".py",
   "mimetype": "text/x-python",
   "name": "python",
   "nbconvert_exporter": "python",
   "pygments_lexer": "ipython3",
   "version": "3.9.13"
  }
 },
 "nbformat": 4,
 "nbformat_minor": 4
}
